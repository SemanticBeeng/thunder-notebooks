{
 "metadata": {
  "name": "",
  "signature": "sha256:1b1eb45a395660d04f1a644bfcab0630d9e6e7f427a48fa1eabab0e91f90f830"
 },
 "nbformat": 3,
 "nbformat_minor": 0,
 "worksheets": [
  {
   "cells": [
    {
     "cell_type": "heading",
     "level": 1,
     "metadata": {},
     "source": [
      "<img style='float: left' width=\"150px\" src=\"http://thunder-project.github.io/images/logo-outline.svg\">\n",
      "<br>\n",
      "<br>\n",
      "<br>\n",
      "&nbsp;&nbsp;&nbsp;&nbsp;&nbsp;[*name of analysis or workflow*] in <a href='http://thunder-project.github.io/'><font color='#EB8B34'>Thunder</font></a>"
     ]
    },
    {
     "cell_type": "markdown",
     "metadata": {},
     "source": [
      "This notebook shows [*describe analysis*]\n",
      "\n",
      "**Environment**\n",
      "- Run on [*describe computing environment*] \n",
      "- Spark version [*X.X.X*], Thunder version [*X.X.X*], Python version [*X.X.X*] \n",
      "\n",
      "**Data**\n",
      "- Data are from [*describe the data briefly*]\n",
      "- Data dimensions are [*dimensions*] with a size on disk of [*size*].\n",
      "- Data available at [*location on S3*]\n"
     ]
    },
    {
     "cell_type": "heading",
     "level": 6,
     "metadata": {},
     "source": [
      "<hr>"
     ]
    }
   ],
   "metadata": {}
  }
 ]
}