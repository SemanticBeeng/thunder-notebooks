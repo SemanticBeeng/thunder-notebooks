{
 "metadata": {
  "name": "",
  "signature": "sha256:1ec7e7842acc6f38feb510825246373cd9d45b31dd02d89521ee837cbf91d7b8"
 },
 "nbformat": 3,
 "nbformat_minor": 0,
 "worksheets": [
  {
   "cells": [
    {
     "cell_type": "heading",
     "level": 1,
     "metadata": {},
     "source": [
      "<img style='float: left' width=\"150px\" src=\"http://thunder-project.github.io/images/logo-outline.svg\">\n",
      "<br>\n",
      "<br>\n",
      "<br>\n",
      "&nbsp;&nbsp;&nbsp;&nbsp;&nbsp;(WIP) Source extraction in <a href='http://thunder-project.github.io/'><font color='#EB8B34'>Thunder</font></a>"
     ]
    },
    {
     "cell_type": "markdown",
     "metadata": {},
     "source": [
      "This notebook demos the **work in progress** source extraction API\n",
      "\n",
      "**Environment**\n",
      "- Run on local environment (Mac OS X)\n",
      "- Spark version 1.3.0, Thunder version 0.5.0_dev, Python version 2.7.6\n",
      "\n",
      "**Data**\n",
      "- Data are generated locally using the sources example data type\n",
      "- These data are random with trivial to identify sources, and are meant **only** to illustrate the API \n"
     ]
    },
    {
     "cell_type": "heading",
     "level": 6,
     "metadata": {},
     "source": [
      "<hr>"
     ]
    },
    {
     "cell_type": "markdown",
     "metadata": {},
     "source": [
      "## Set up lightning and other imports"
     ]
    },
    {
     "cell_type": "code",
     "collapsed": false,
     "input": [
      "from lightning import Lightning\n",
      "lgn = Lightning(ipython=True, host='https://lightning-demo-source-temp.herokuapp.com')"
     ],
     "language": "python",
     "metadata": {},
     "outputs": [],
     "prompt_number": 2
    },
    {
     "cell_type": "code",
     "collapsed": false,
     "input": [
      "from thunder import SourceExtraction"
     ],
     "language": "python",
     "metadata": {},
     "outputs": [],
     "prompt_number": 3
    },
    {
     "cell_type": "markdown",
     "metadata": {},
     "source": [
      "## Generate a data set"
     ]
    },
    {
     "cell_type": "code",
     "collapsed": false,
     "input": [
      "data = tsc.makeExample('sources', centers=10, noise=0.1)"
     ],
     "language": "python",
     "metadata": {},
     "outputs": [],
     "prompt_number": 4
    },
    {
     "cell_type": "markdown",
     "metadata": {},
     "source": [
      "## Feature method example: localmax"
     ]
    },
    {
     "cell_type": "markdown",
     "metadata": {},
     "source": [
      "A top-level factory method enables easy construction of source extraction methods. The first type of method we'll consider is a feature method, which proceeds in two stages: create some kind of feature from the data set (usually an array), and then apply some operator to that image to identify sources. As a particularly simple example, the `localmax` method computes a mean across time as the feature, and then finds sources as regions centered on local maxima. (*Note*: keyword arguments are propgated to the component functions, which does not support built-in error checking for invalid passed keyword arguments in the factory.)"
     ]
    },
    {
     "cell_type": "code",
     "collapsed": false,
     "input": [
      "model = SourceExtraction('localmax', minDistance=5, maxSources=10, radius=5).fit(data)"
     ],
     "language": "python",
     "metadata": {},
     "outputs": [],
     "prompt_number": 5
    },
    {
     "cell_type": "markdown",
     "metadata": {},
     "source": [
      "A model is a collection of sources"
     ]
    },
    {
     "cell_type": "code",
     "collapsed": false,
     "input": [
      "model"
     ],
     "language": "python",
     "metadata": {},
     "outputs": [
      {
       "metadata": {},
       "output_type": "pyout",
       "prompt_number": 6,
       "text": [
        "SourceModel\n",
        "10 sources"
       ]
      }
     ],
     "prompt_number": 6
    },
    {
     "cell_type": "markdown",
     "metadata": {},
     "source": [
      "It has support for easy indexing into the sources"
     ]
    },
    {
     "cell_type": "code",
     "collapsed": false,
     "input": [
      "model[0]"
     ],
     "language": "python",
     "metadata": {},
     "outputs": [
      {
       "metadata": {},
       "output_type": "pyout",
       "prompt_number": 7,
       "text": [
        "Source\n",
        "center: [52.0, 35.0]\n",
        "bbox: [48, 31, 56, 39]"
       ]
      }
     ],
     "prompt_number": 7
    },
    {
     "cell_type": "markdown",
     "metadata": {},
     "source": [
      "Along with its primary attributes, a source as lazily computed properties that are computed once upon request and then cached (avoiding expensive recomputation). These are avaialble in aggregate on the model object. For example, each source has the ability to compute a bounding polygon. We can look at just one, rendered using lightning `imagedraw` method which draws regions on top of images and supports freehand drawing."
     ]
    },
    {
     "cell_type": "code",
     "collapsed": false,
     "input": [
      "lgn.imagepoly(data.mean(), model[0].polygon)"
     ],
     "language": "python",
     "metadata": {},
     "outputs": [
      {
       "html": [
        "<meta name=\"viewport\" content=\"width=device-width, initial-scale=1, maximum-scale=1\"/><meta http-equiv=\"X-UA-Compatible\" content=\"IE=10; IE=9; IE=8; IE=7; IE=EDGE\"/><meta charset=\"UTF-8\"/><link href=\"//fonts.googleapis.com/css?family=Open+Sans:400,700\" rel=\"stylesheet\" type=\"text/css\"/><link rel=\"stylesheet\" href=\"https://lightning-demo-source-temp.herokuapp.com/css/app.css\"/><link rel=\"stylesheet\" href=\"https://lightning-demo-source-temp.herokuapp.com/css/dynamic/viz/?visualizations[]=image-poly\"/><div id=\"lightning-body\" class=\"container content wrap push\"><div class=\"feed-container\"><div data-model=\"visualization\" data-model-id=\"2\" class=\"feed-item-container\"><div data-type=\"image-poly\" data-data=\"{&quot;coordinates&quot;:[[[39,54],[39,50],[37,48],[33,48],[31,50],[31,54],[33,56],[37,56]]]}\" data-images=\"[&quot;/images/uploads/sessions/2/YuF2Efcm18GAv7eSs3PdxzmN4C91vPtr&quot;]\" data-options=\"null\" id=\"viz-2\" data-initialized=\"false\" class=\"feed-item\"></div></div></div></div><script>window.lightning = window.lightning || {};\n",
        "window.lightning.host = \"https://lightning-demo-source-temp.herokuapp.com/\" || 'http://127.0.0.1:3000/';\n",
        "window.lightning.vizCount = (window.lightning.vizCount + 1) || 1;\n",
        "window.lightning.requiredVizTypes = window.lightning.requiredVizTypes || [];\n",
        "if(window.lightning.requiredVizTypes.indexOf(\"image-poly\") === -1) {\n",
        "    window.lightning.requiredVizTypes.push(\"image-poly\");\n",
        "}\n",
        "window._require = window.require;\n",
        "window.require = undefined;\n",
        "window._define = window.define;\n",
        "window.define = undefined;</script><script src=\"https://lightning-demo-source-temp.herokuapp.com/js/embed.js\"></script>"
       ],
       "metadata": {},
       "output_type": "pyout",
       "prompt_number": 8,
       "text": [
        "<lightning.types.images.ImagePoly at 0x10a2abbd0>"
       ]
      }
     ],
     "prompt_number": 8
    },
    {
     "cell_type": "markdown",
     "metadata": {},
     "source": [
      "Or look at all of them."
     ]
    },
    {
     "cell_type": "code",
     "collapsed": false,
     "input": [
      "lgn.imagepoly(data.mean(), model.polygons)"
     ],
     "language": "python",
     "metadata": {},
     "outputs": [
      {
       "html": [
        "<meta name=\"viewport\" content=\"width=device-width, initial-scale=1, maximum-scale=1\"/><meta http-equiv=\"X-UA-Compatible\" content=\"IE=10; IE=9; IE=8; IE=7; IE=EDGE\"/><meta charset=\"UTF-8\"/><link href=\"//fonts.googleapis.com/css?family=Open+Sans:400,700\" rel=\"stylesheet\" type=\"text/css\"/><link rel=\"stylesheet\" href=\"https://lightning-demo-source-temp.herokuapp.com/css/app.css\"/><link rel=\"stylesheet\" href=\"https://lightning-demo-source-temp.herokuapp.com/css/dynamic/viz/?visualizations[]=image-poly\"/><div id=\"lightning-body\" class=\"container content wrap push\"><div class=\"feed-container\"><div data-model=\"visualization\" data-model-id=\"3\" class=\"feed-item-container\"><div data-type=\"image-poly\" data-data=\"{&quot;coordinates&quot;:[[[39,54],[39,50],[37,48],[33,48],[31,50],[31,54],[33,56],[37,56]],[[165,63],[165,59],[163,57],[159,57],[157,59],[157,63],[159,65],[163,65]],[[151,26],[151,22],[149,20],[145,20],[143,22],[143,26],[145,28],[149,28]],[[25,49],[25,45],[23,43],[19,43],[17,45],[17,49],[19,51],[23,51]],[[119,22],[119,18],[117,16],[113,16],[111,18],[111,22],[113,24],[117,24]],[[141,35],[141,31],[139,29],[135,29],[133,31],[133,35],[135,37],[139,37]],[[149,66],[149,62],[147,60],[143,60],[141,62],[141,66],[143,68],[147,68]],[[161,24],[159,26],[159,30],[161,32],[165,32],[167,30],[167,26],[165,24]],[[68,31],[72,31],[74,29],[74,25],[72,23],[68,23],[66,25],[66,29]],[[79,77],[79,73],[77,71],[73,71],[71,73],[71,77],[73,79],[77,79]]]}\" data-images=\"[&quot;/images/uploads/sessions/2/idQdy2xoVRGPM93W4uKs41RvMwTklvvv&quot;]\" data-options=\"null\" id=\"viz-3\" data-initialized=\"false\" class=\"feed-item\"></div></div></div></div><script>window.lightning = window.lightning || {};\n",
        "window.lightning.host = \"https://lightning-demo-source-temp.herokuapp.com/\" || 'http://127.0.0.1:3000/';\n",
        "window.lightning.vizCount = (window.lightning.vizCount + 1) || 1;\n",
        "window.lightning.requiredVizTypes = window.lightning.requiredVizTypes || [];\n",
        "if(window.lightning.requiredVizTypes.indexOf(\"image-poly\") === -1) {\n",
        "    window.lightning.requiredVizTypes.push(\"image-poly\");\n",
        "}\n",
        "window._require = window.require;\n",
        "window.require = undefined;\n",
        "window._define = window.define;\n",
        "window.define = undefined;</script><script src=\"https://lightning-demo-source-temp.herokuapp.com/js/embed.js\"></script>"
       ],
       "metadata": {},
       "output_type": "pyout",
       "prompt_number": 9,
       "text": [
        "<lightning.types.images.ImagePoly at 0x106f60ed0>"
       ]
      }
     ],
     "prompt_number": 9
    },
    {
     "cell_type": "markdown",
     "metadata": {},
     "source": [
      "An alternate output renders regions as masks, with or without values via the `binary` flag (here it wouldn't matter because the regions have no values)"
     ]
    },
    {
     "cell_type": "code",
     "collapsed": false,
     "input": [
      "lgn.image(model.masks(dims=(100,200), binary=True))"
     ],
     "language": "python",
     "metadata": {},
     "outputs": [
      {
       "html": [
        "<meta name=\"viewport\" content=\"width=device-width, initial-scale=1, maximum-scale=1\"/><meta http-equiv=\"X-UA-Compatible\" content=\"IE=10; IE=9; IE=8; IE=7; IE=EDGE\"/><meta charset=\"UTF-8\"/><link href=\"//fonts.googleapis.com/css?family=Open+Sans:400,700\" rel=\"stylesheet\" type=\"text/css\"/><link rel=\"stylesheet\" href=\"https://lightning-demo-source-temp.herokuapp.com/css/app.css\"/><link rel=\"stylesheet\" href=\"https://lightning-demo-source-temp.herokuapp.com/css/dynamic/viz/?visualizations[]=image\"/><div id=\"lightning-body\" class=\"container content wrap push\"><div class=\"feed-container\"><div data-model=\"visualization\" data-model-id=\"4\" class=\"feed-item-container\"><div data-type=\"image\" data-data=\"null\" data-images=\"[&quot;/images/uploads/sessions/2/nxwDXuUD4OiZSLmPKBY13TPrLghSqR45&quot;]\" data-options=\"null\" id=\"viz-4\" data-initialized=\"false\" class=\"feed-item\"></div></div></div></div><script>window.lightning = window.lightning || {};\n",
        "window.lightning.host = \"https://lightning-demo-source-temp.herokuapp.com/\" || 'http://127.0.0.1:3000/';\n",
        "window.lightning.vizCount = (window.lightning.vizCount + 1) || 1;\n",
        "window.lightning.requiredVizTypes = window.lightning.requiredVizTypes || [];\n",
        "if(window.lightning.requiredVizTypes.indexOf(\"image\") === -1) {\n",
        "    window.lightning.requiredVizTypes.push(\"image\");\n",
        "}\n",
        "window._require = window.require;\n",
        "window.require = undefined;\n",
        "window._define = window.define;\n",
        "window.define = undefined;</script><script src=\"https://lightning-demo-source-temp.herokuapp.com/js/embed.js\"></script>"
       ],
       "metadata": {},
       "output_type": "pyout",
       "prompt_number": 10,
       "text": [
        "<lightning.types.images.Image at 0x10a2c3390>"
       ]
      }
     ],
     "prompt_number": 10
    },
    {
     "cell_type": "markdown",
     "metadata": {},
     "source": [
      "We can do the same operation but construct from modular components rather than use the factory. The key components of a `FeatureMethod` are a `FeatureCreator` and a `FeatureAlgorithm`, as well as a more generic `Cleaner`. This obeys normal argument checking on component classes."
     ]
    },
    {
     "cell_type": "code",
     "collapsed": false,
     "input": [
      "from thunder.extraction import FeatureMethod, LocalMaxFeatureAlgorithm, MeanFeatureCreator, BasicCleaner\n",
      "\n",
      "algorithm = LocalMaxFeatureAlgorithm(minDistance=5, maxSources=10, radius=5)\n",
      "creator = MeanFeatureCreator()\n",
      "cleaner = BasicCleaner(minArea=0, maxArea=200)\n",
      "\n",
      "model = FeatureMethod(algorithm, creator, cleaner).fit(data)"
     ],
     "language": "python",
     "metadata": {},
     "outputs": [],
     "prompt_number": 11
    },
    {
     "cell_type": "code",
     "collapsed": false,
     "input": [
      "lgn.imagepoly(data.mean(), model.polygons)"
     ],
     "language": "python",
     "metadata": {},
     "outputs": [
      {
       "html": [
        "<meta name=\"viewport\" content=\"width=device-width, initial-scale=1, maximum-scale=1\"/><meta http-equiv=\"X-UA-Compatible\" content=\"IE=10; IE=9; IE=8; IE=7; IE=EDGE\"/><meta charset=\"UTF-8\"/><link href=\"//fonts.googleapis.com/css?family=Open+Sans:400,700\" rel=\"stylesheet\" type=\"text/css\"/><link rel=\"stylesheet\" href=\"https://lightning-demo-source-temp.herokuapp.com/css/app.css\"/><link rel=\"stylesheet\" href=\"https://lightning-demo-source-temp.herokuapp.com/css/dynamic/viz/?visualizations[]=image-poly\"/><div id=\"lightning-body\" class=\"container content wrap push\"><div class=\"feed-container\"><div data-model=\"visualization\" data-model-id=\"5\" class=\"feed-item-container\"><div data-type=\"image-poly\" data-data=\"{&quot;coordinates&quot;:[[[39,54],[39,50],[37,48],[33,48],[31,50],[31,54],[33,56],[37,56]],[[165,63],[165,59],[163,57],[159,57],[157,59],[157,63],[159,65],[163,65]],[[151,26],[151,22],[149,20],[145,20],[143,22],[143,26],[145,28],[149,28]],[[25,49],[25,45],[23,43],[19,43],[17,45],[17,49],[19,51],[23,51]],[[119,22],[119,18],[117,16],[113,16],[111,18],[111,22],[113,24],[117,24]],[[141,35],[141,31],[139,29],[135,29],[133,31],[133,35],[135,37],[139,37]],[[149,66],[149,62],[147,60],[143,60],[141,62],[141,66],[143,68],[147,68]],[[161,24],[159,26],[159,30],[161,32],[165,32],[167,30],[167,26],[165,24]],[[68,31],[72,31],[74,29],[74,25],[72,23],[68,23],[66,25],[66,29]],[[79,77],[79,73],[77,71],[73,71],[71,73],[71,77],[73,79],[77,79]]]}\" data-images=\"[&quot;/images/uploads/sessions/2/PBW5ZKk6yN2TgRII6m1kEunInsIF4kg9&quot;]\" data-options=\"null\" id=\"viz-5\" data-initialized=\"false\" class=\"feed-item\"></div></div></div></div><script>window.lightning = window.lightning || {};\n",
        "window.lightning.host = \"https://lightning-demo-source-temp.herokuapp.com/\" || 'http://127.0.0.1:3000/';\n",
        "window.lightning.vizCount = (window.lightning.vizCount + 1) || 1;\n",
        "window.lightning.requiredVizTypes = window.lightning.requiredVizTypes || [];\n",
        "if(window.lightning.requiredVizTypes.indexOf(\"image-poly\") === -1) {\n",
        "    window.lightning.requiredVizTypes.push(\"image-poly\");\n",
        "}\n",
        "window._require = window.require;\n",
        "window.require = undefined;\n",
        "window._define = window.define;\n",
        "window.define = undefined;</script><script src=\"https://lightning-demo-source-temp.herokuapp.com/js/embed.js\"></script>"
       ],
       "metadata": {},
       "output_type": "pyout",
       "prompt_number": 12,
       "text": [
        "<lightning.types.images.ImagePoly at 0x1086a96d0>"
       ]
      }
     ],
     "prompt_number": 12
    },
    {
     "cell_type": "markdown",
     "metadata": {},
     "source": [
      "## Saving and loading models"
     ]
    },
    {
     "cell_type": "markdown",
     "metadata": {},
     "source": [
      "### Saving as JSON"
     ]
    },
    {
     "cell_type": "markdown",
     "metadata": {},
     "source": [
      "Models can easily be saved to JSON. We slightly modify Thunder's built-in serialization functionality to yield a simplified, more human-readable output."
     ]
    },
    {
     "cell_type": "code",
     "collapsed": false,
     "input": [
      "model.save(\"~/sources.json\")"
     ],
     "language": "python",
     "metadata": {},
     "outputs": [],
     "prompt_number": 13
    },
    {
     "cell_type": "markdown",
     "metadata": {},
     "source": [
      "Models contain both primary attributes (id, coordinates, values) and lazily derived attributes (center, bounding box, polygon boundary, etc.). By default, lazy attributes are not saved, as they are not neccessary for reconstituing sources. However, they can be optionally selected for inclusion, in which case they will also be persisted (and automatically reloaded, potentially saving recomputation)."
     ]
    },
    {
     "cell_type": "code",
     "collapsed": false,
     "input": [
      "model.save(\"~/sources.json\", include=\"polygon\")"
     ],
     "language": "python",
     "metadata": {},
     "outputs": [],
     "prompt_number": 14
    },
    {
     "cell_type": "code",
     "collapsed": false,
     "input": [
      "model.save(\"~/sources.json\", include=[\"center\", \"area\", \"polygon\"])"
     ],
     "language": "python",
     "metadata": {},
     "outputs": [],
     "prompt_number": 15
    },
    {
     "cell_type": "markdown",
     "metadata": {},
     "source": [
      "### Loading from JSON"
     ]
    },
    {
     "cell_type": "markdown",
     "metadata": {},
     "source": [
      "The same model can then be loaded back in"
     ]
    },
    {
     "cell_type": "code",
     "collapsed": false,
     "input": [
      "model = SourceExtraction.load(\"~/sources.json\")\n",
      "lgn.imagepoly(data.mean(), model.polygons)"
     ],
     "language": "python",
     "metadata": {},
     "outputs": [
      {
       "html": [
        "<meta name=\"viewport\" content=\"width=device-width, initial-scale=1, maximum-scale=1\"/><meta http-equiv=\"X-UA-Compatible\" content=\"IE=10; IE=9; IE=8; IE=7; IE=EDGE\"/><meta charset=\"UTF-8\"/><link href=\"//fonts.googleapis.com/css?family=Open+Sans:400,700\" rel=\"stylesheet\" type=\"text/css\"/><link rel=\"stylesheet\" href=\"https://lightning-demo-source-temp.herokuapp.com/css/app.css\"/><link rel=\"stylesheet\" href=\"https://lightning-demo-source-temp.herokuapp.com/css/dynamic/viz/?visualizations[]=image-poly\"/><div id=\"lightning-body\" class=\"container content wrap push\"><div class=\"feed-container\"><div data-model=\"visualization\" data-model-id=\"6\" class=\"feed-item-container\"><div data-type=\"image-poly\" data-data=\"{&quot;coordinates&quot;:[[[39,54],[39,50],[37,48],[33,48],[31,50],[31,54],[33,56],[37,56]],[[165,63],[165,59],[163,57],[159,57],[157,59],[157,63],[159,65],[163,65]],[[151,26],[151,22],[149,20],[145,20],[143,22],[143,26],[145,28],[149,28]],[[25,49],[25,45],[23,43],[19,43],[17,45],[17,49],[19,51],[23,51]],[[119,22],[119,18],[117,16],[113,16],[111,18],[111,22],[113,24],[117,24]],[[141,35],[141,31],[139,29],[135,29],[133,31],[133,35],[135,37],[139,37]],[[149,66],[149,62],[147,60],[143,60],[141,62],[141,66],[143,68],[147,68]],[[161,24],[159,26],[159,30],[161,32],[165,32],[167,30],[167,26],[165,24]],[[68,31],[72,31],[74,29],[74,25],[72,23],[68,23],[66,25],[66,29]],[[79,77],[79,73],[77,71],[73,71],[71,73],[71,77],[73,79],[77,79]]]}\" data-images=\"[&quot;/images/uploads/sessions/2/g8DAYLalYCPNV5ak7CsfWxURqpWxMDQm&quot;]\" data-options=\"null\" id=\"viz-6\" data-initialized=\"false\" class=\"feed-item\"></div></div></div></div><script>window.lightning = window.lightning || {};\n",
        "window.lightning.host = \"https://lightning-demo-source-temp.herokuapp.com/\" || 'http://127.0.0.1:3000/';\n",
        "window.lightning.vizCount = (window.lightning.vizCount + 1) || 1;\n",
        "window.lightning.requiredVizTypes = window.lightning.requiredVizTypes || [];\n",
        "if(window.lightning.requiredVizTypes.indexOf(\"image-poly\") === -1) {\n",
        "    window.lightning.requiredVizTypes.push(\"image-poly\");\n",
        "}\n",
        "window._require = window.require;\n",
        "window.require = undefined;\n",
        "window._define = window.define;\n",
        "window.define = undefined;</script><script src=\"https://lightning-demo-source-temp.herokuapp.com/js/embed.js\"></script>"
       ],
       "metadata": {},
       "output_type": "pyout",
       "prompt_number": 16,
       "text": [
        "<lightning.types.images.ImagePoly at 0x10aeb79d0>"
       ]
      }
     ],
     "prompt_number": 16
    },
    {
     "cell_type": "markdown",
     "metadata": {},
     "source": [
      "## Getting time series"
     ]
    },
    {
     "cell_type": "markdown",
     "metadata": {},
     "source": [
      "Once a source model is constructed, we can use it to extract time series from a data set. Currently only simple averaging over regions is supported, but we will add support for weighted regions, and methods that do some form of local unmixing (via regression)."
     ]
    },
    {
     "cell_type": "code",
     "collapsed": false,
     "input": [
      "data, ts, centers = tsc.makeExample('sources', centers=3, noise=0.1, returnParams=True)\n",
      "model = SourceExtraction('localmax', minDistance=5, maxSources=3, radius=5).fit(data)\n",
      "ts_recon = model.transform(data)"
     ],
     "language": "python",
     "metadata": {},
     "outputs": [],
     "prompt_number": 17
    },
    {
     "cell_type": "code",
     "collapsed": false,
     "input": [
      "lgn.imagepoly(data.mean(), model.polygons)"
     ],
     "language": "python",
     "metadata": {},
     "outputs": [
      {
       "html": [
        "<meta name=\"viewport\" content=\"width=device-width, initial-scale=1, maximum-scale=1\"/><meta http-equiv=\"X-UA-Compatible\" content=\"IE=10; IE=9; IE=8; IE=7; IE=EDGE\"/><meta charset=\"UTF-8\"/><link href=\"//fonts.googleapis.com/css?family=Open+Sans:400,700\" rel=\"stylesheet\" type=\"text/css\"/><link rel=\"stylesheet\" href=\"https://lightning-demo-source-temp.herokuapp.com/css/app.css\"/><link rel=\"stylesheet\" href=\"https://lightning-demo-source-temp.herokuapp.com/css/dynamic/viz/?visualizations[]=image-poly\"/><div id=\"lightning-body\" class=\"container content wrap push\"><div class=\"feed-container\"><div data-model=\"visualization\" data-model-id=\"7\" class=\"feed-item-container\"><div data-type=\"image-poly\" data-data=\"{&quot;coordinates&quot;:[[[115,28],[115,24],[113,22],[109,22],[107,24],[107,28],[109,30],[113,30]],[[181,52],[181,48],[179,46],[175,46],[173,48],[173,52],[175,54],[179,54]],[[181,30],[181,26],[179,24],[175,24],[173,26],[173,30],[175,32],[179,32]]]}\" data-images=\"[&quot;/images/uploads/sessions/2/moJK9JiN0RvrUXH7U2HLleRS7Xkt1vgE&quot;]\" data-options=\"null\" id=\"viz-7\" data-initialized=\"false\" class=\"feed-item\"></div></div></div></div><script>window.lightning = window.lightning || {};\n",
        "window.lightning.host = \"https://lightning-demo-source-temp.herokuapp.com/\" || 'http://127.0.0.1:3000/';\n",
        "window.lightning.vizCount = (window.lightning.vizCount + 1) || 1;\n",
        "window.lightning.requiredVizTypes = window.lightning.requiredVizTypes || [];\n",
        "if(window.lightning.requiredVizTypes.indexOf(\"image-poly\") === -1) {\n",
        "    window.lightning.requiredVizTypes.push(\"image-poly\");\n",
        "}\n",
        "window._require = window.require;\n",
        "window.require = undefined;\n",
        "window._define = window.define;\n",
        "window.define = undefined;</script><script src=\"https://lightning-demo-source-temp.herokuapp.com/js/embed.js\"></script>"
       ],
       "metadata": {},
       "output_type": "pyout",
       "prompt_number": 18,
       "text": [
        "<lightning.types.images.ImagePoly at 0x10a2e9f90>"
       ]
      }
     ],
     "prompt_number": 18
    },
    {
     "cell_type": "markdown",
     "metadata": {},
     "source": [
      "Compare real and estimated time series (note that colors may not correspond one-to-one because order is arbitrary)"
     ]
    },
    {
     "cell_type": "code",
     "collapsed": false,
     "input": [
      "lgn.linestacked(ts_recon)"
     ],
     "language": "python",
     "metadata": {},
     "outputs": [
      {
       "html": [
        "<meta name=\"viewport\" content=\"width=device-width, initial-scale=1, maximum-scale=1\"/><meta http-equiv=\"X-UA-Compatible\" content=\"IE=10; IE=9; IE=8; IE=7; IE=EDGE\"/><meta charset=\"UTF-8\"/><link href=\"//fonts.googleapis.com/css?family=Open+Sans:400,700\" rel=\"stylesheet\" type=\"text/css\"/><link rel=\"stylesheet\" href=\"https://lightning-demo-source-temp.herokuapp.com/css/app.css\"/><link rel=\"stylesheet\" href=\"https://lightning-demo-source-temp.herokuapp.com/css/dynamic/viz/?visualizations[]=line-stacked\"/><div id=\"lightning-body\" class=\"container content wrap push\"><div class=\"feed-container\"><div data-model=\"visualization\" data-model-id=\"8\" class=\"feed-item-container\"><div data-type=\"line-stacked\" data-data=\"{&quot;series&quot;:[[0.004053213077042134,0.14674997308240628,-0.006408495078850023,0.013090811640882646,-0.012970367677359167,0.8309157436180341,0.14274758603688728,-0.046135630772590384,0.3632192370226694,0.4210826153313759,0.7646177112797922,0.39831532411717085,0.04069983914141407,0.015222581719334109,-0.0036281953013102206,0.011586510453035796,-0.009513517021855837,-0.031018129313714678,0.001156752362203956,1.7846058891217036,0.005883037021454515,-0.00876171147655238,0.315353233917537,0.47517012469717035,0.5972295918069747,0.6629226752649996,0.7437144123654795,0.06375591522425478,-0.012790205592754577,0.022272345859977526,0.005708966962072574,-0.021742680199519006,0.6654838663961797,0.12742260752086149,-0.005467715209642497,1.470335602660397,0.5823839509418843,0.5186054803809951,-0.02217713115117213,-0.002094863151303874,1.0301490044648354,0.0016320078772270367,0.8939922539474933,0.31800452683951386,-0.04199200743820353,1.1603087593943402,0.010167687880158803,0.13345741263922256,0.5988581403746254,0.010488405580678279,0.02377512122593932,-0.03976017261287805,-0.007604712322074921,-0.03628372037956053,0.009541165564409372,-0.009641675715023001,0.5600850815749454,0.04101313868247486,1.0508960387804924,0.5843079546175016,0.003443627524815801,0.9936446676634619,-0.03399275142117181,0.22135808137407248,0.42947279242173564,0.3399813022436079,0.3139093645244067,0.9835410418291969,-0.004403093594997679,0.019050752528250947,0.6104056528144479,0.7578812151502137,-0.025549263355750383,0.027662361468808707,0.03009336626956335,0.04768705335126169,-0.013529813671960572,0.12566024355137997,0.4884290603967786,-0.022708833181882878,0.3391043760148877,0.2852775032048582,0.2378269486141364,-0.0027820063426310156,0.005648219735909608,-0.03736567272864931,0.9140754097439964,-0.04123361237650861,0.9498019513326498,-0.013207211830208941,1.1168754358926556,0.2899486243156911,0.01185205529974505,0.46276249866762537,0.0302483009328578,0.6537477320754476,0.03569600009839958,-0.03482791012004621,-0.012459391115765843,0.5265904737608662],[0.04773386050196939,0.6027621012537925,0.012041292419393878,0.13935889642929616,1.0114406912830114,0.038236663808379825,-0.009213269924173102,1.0111702106640508,0.28812306165660495,0.18199988417771737,0.3536664482808799,-0.005999007382736325,0.16609737375366093,0.06932606513655791,-0.001978316598373651,0.0497084860690386,0.18599076917633425,-0.014036777725215418,0.0037402084868557424,0.3120713095752381,0.01309276321533374,1.1727310846181,0.455109502286351,0.02733416432694056,0.4341466081337543,-0.027231213285486566,0.2725870867885564,0.03774030328265416,0.02425657886500287,-0.031867592964317105,0.4609322422050791,-0.01167504579926858,0.031068555101649492,-0.0029264690560376607,0.30956297306222896,0.25369795574942894,-0.017285564478995045,0.2456550689370232,0.7961130723705052,1.3760301983648795,-0.04111363603663393,0.03214104649455902,0.029250629500770134,-0.018202719017027136,-0.03867656072603107,0.5164489889271926,0.07053985853230568,0.2391646018259547,0.6148271996010691,0.9477223873217847,0.3693001163516371,0.3292922647910107,0.08695101875845328,0.29208017295261207,-0.0043935810183978775,0.3737941922508018,0.5633594987484657,0.8385320704108664,-0.004543917491874766,0.016627404717575067,0.36909006436566005,1.020666698347747,0.006225215304959692,0.8114035816854677,1.1363825339245202,0.004405928028291075,0.4210936286684146,-0.011118322475585831,-0.012347000373646323,0.0728983386820001,-0.028402581693207307,0.017945199429676935,0.05407038627331619,0.0032643079109919253,-0.01866207655712783,0.2653567189109897,0.021727544037698533,0.16894545432472338,0.011508806731513745,0.057797671685529205,0.008586536749996451,0.15056645686274453,0.018749516101568386,0.021054231401329913,0.2770187395572868,0.06981294139736867,0.045724726331532774,0.026515945368230234,0.012497205255945356,-0.01703242521046822,0.000580643235325554,0.004298352806633188,-0.003194370963457014,-0.003478187646945002,0.21728216392999822,0.616934981277251,0.4065192887485245,0.00786927350973385,0.6689951318437513,0.15059946162353802],[0.8396574807796886,-0.009700266546542994,-0.015099513410032541,0.035906381759110685,0.3842669279529191,0.001358340818292786,-0.0004012373020084685,0.18810402478026766,0.7300363737264256,-0.005950883978959489,0.01580196073501748,-0.0026996071094534967,0.24455411335587376,0.03412810950104005,0.011177713800077206,-0.014018407780751344,0.0070930664576594514,0.5658396463331143,0.01188055659925896,-0.027120936373129362,0.014261615427952042,0.029382979600221456,0.3848212810429214,-0.02228864617216876,0.8821725076704586,0.012304553710816459,0.025733787503127832,0.25715258521927187,0.027045387761618085,0.0530385545083365,-0.011328882360515019,0.019877964205689953,0.25688322702367705,0.027259357178711342,-0.01826516482649705,0.5587259493695342,0.20440572562154727,-0.02786539169624046,0.4064496499167496,0.7928393953937306,0.3850767977293291,0.010172929115100048,0.02733394589260907,0.713064511733975,0.007767775737930522,-0.05868007726447585,-0.0011112820922884543,0.5818991597173525,0.5210807892502027,0.28866605389354955,0.010054805794809574,0.5110895271815626,-0.013756892254747622,0.5990241776774685,-0.009394618637048957,0.017834630901189974,-0.01803592438736708,0.6824706196578316,0.41624119502678913,0.32484073995320073,-0.019068055475929692,0.162053421383151,0.044798647799456706,0.6594412622307478,0.6644283503537014,0.005795987544880465,1.1890185695682278,-0.04694433590506592,0.023915543347564176,0.02257390405138453,0.44085403302967124,0.2691872091628969,-0.03720806027643652,0.45884886427007904,-0.011696223551768014,-0.003923042854216624,-0.017448416027439167,0.04674126427947797,0.020939487498377728,0.30065839263392274,0.6117804042456348,0.12290507996662407,-0.004115909739889522,0.6288810414673309,0.03009657133554383,-0.007436450941134193,0.6849988951873635,0.8554375537464349,0.012809269113779463,0.08884791973544463,0.030217324903439525,0.019116806659093252,-0.02868216918004091,0.0288310565024666,0.004845841166991156,0.0173421668603101,0.001001745886817939,0.6698652407715893,0.014441765195858776,0.3980506009625976]]}\" data-images=\"null\" data-options=\"null\" id=\"viz-8\" data-initialized=\"false\" class=\"feed-item\"></div></div></div></div><script>window.lightning = window.lightning || {};\n",
        "window.lightning.host = \"https://lightning-demo-source-temp.herokuapp.com/\" || 'http://127.0.0.1:3000/';\n",
        "window.lightning.vizCount = (window.lightning.vizCount + 1) || 1;\n",
        "window.lightning.requiredVizTypes = window.lightning.requiredVizTypes || [];\n",
        "if(window.lightning.requiredVizTypes.indexOf(\"line-stacked\") === -1) {\n",
        "    window.lightning.requiredVizTypes.push(\"line-stacked\");\n",
        "}\n",
        "window._require = window.require;\n",
        "window.require = undefined;\n",
        "window._define = window.define;\n",
        "window.define = undefined;</script><script src=\"https://lightning-demo-source-temp.herokuapp.com/js/embed.js\"></script>"
       ],
       "metadata": {},
       "output_type": "pyout",
       "prompt_number": 19,
       "text": [
        "<lightning.types.plots.LineStacked at 0x10a2ab710>"
       ]
      }
     ],
     "prompt_number": 19
    },
    {
     "cell_type": "code",
     "collapsed": false,
     "input": [
      "lgn.linestacked(ts)"
     ],
     "language": "python",
     "metadata": {},
     "outputs": [
      {
       "html": [
        "<meta name=\"viewport\" content=\"width=device-width, initial-scale=1, maximum-scale=1\"/><meta http-equiv=\"X-UA-Compatible\" content=\"IE=10; IE=9; IE=8; IE=7; IE=EDGE\"/><meta charset=\"UTF-8\"/><link href=\"//fonts.googleapis.com/css?family=Open+Sans:400,700\" rel=\"stylesheet\" type=\"text/css\"/><link rel=\"stylesheet\" href=\"https://lightning-demo-source-temp.herokuapp.com/css/app.css\"/><link rel=\"stylesheet\" href=\"https://lightning-demo-source-temp.herokuapp.com/css/dynamic/viz/?visualizations[]=line-stacked\"/><div id=\"lightning-body\" class=\"container content wrap push\"><div class=\"feed-container\"><div data-model=\"visualization\" data-model-id=\"9\" class=\"feed-item-container\"><div data-type=\"line-stacked\" data-data=\"{&quot;series&quot;:[[1.5009368569620478,0,0,0,0.664631019999429,0,0,0.27063661293631824,1.2180277320944113,0,0,0,0.4329902733982736,0.01696846183442762,0,0,0,0.9336858967667949,0,0,0,0,0.7042965806839276,0,1.5154707339070557,0,0.01905857101401974,0.3991590126653524,0,0,0,0,0.42604304270609106,0,0,1.0424567086676562,0.36079539345132106,0,0.752881520831155,1.351224837301978,0.7068336311992512,0,0,1.3199575916754447,0,0,0,1.0250542790596877,0.9468704094324544,0.49478062824520386,0,0.8736691225764188,0,1.0132854548416703,0,0,0,1.1709416759608098,0.6708065911310984,0.5320630927625549,0,0.292041598951854,0.12346513528700648,1.1298861678743664,1.1502376828175704,0,2.10206903753257,0,0,0,0.7484203623188417,0.4605273490433219,0,0.7394273586112885,0,0,0,0,0,0.5748112625998565,1.091301093847907,0.1708046573762044,0,1.0875987726599632,0.013603538671512089,0,1.1194991282408495,1.4877602974286996,0,0.09726622650238985,0,0,0,0,0,0,0,1.1785141308015281,0,0.6572473622482443],[0,0.23932236003712257,0,0,0,1.4344543074997969,0.26936866566674383,0,0.6437812279502296,0.7688234411213639,1.3154423469057772,0.7042517863390474,0.08832440617721404,0,0,0,0,0,0,3.0693389783991507,0,0,0.45997975491808685,0.8106308316817313,1.0261654800040716,1.115997018179589,1.2785138331850021,0.08077827315349281,0,0,0,0,1.0968111569291912,0.2370971092180917,0,2.5649662706383767,0.9308125671551873,0.9216318355963776,0,0,1.804261645983271,0,1.4998309923543227,0.5264899978283084,0,2.0766993474492343,0,0.28136780114480653,1.0908216308079879,0,0,0,0,0,0,0,0.9342280459886267,0,1.8075972878202222,1.0278031604311813,0,1.652024193074974,0,0.3189669612390339,0.7442551568930867,0.5600086876836053,0.5702474983317943,1.6942965601887972,0,0,1.0853628870524763,1.3020659623476263,0,0,0,0.05780332336052403,0,0.25983740276671297,0.8693019152669378,0,0.6173434177263059,0.45537062648569826,0.38666316292683217,0,0,0,1.5436002002064546,0,1.6378493145027124,0,1.8938077111007185,0.43336373527767696,0,0.8153362703887588,0,1.1403383440873573,0,0,0,0.9154307331486973],[0.04856084229315004,1.0711057872372385,0,0.27112655516662126,1.7881794606605352,0,0,1.7483894742407267,0.5257354108285226,0.34175911363260675,0.6551895181522401,0,0.25901807300724106,0.118822844901135,0,0.08349891162594412,0.39780790719509646,0,0,0.58938844337791,0,2.1147811383876016,0.7429126681809533,0,0.7355376851923483,0,0.5086850876622124,0,0.018310371231475206,0,0.8495675181925985,0,0,0,0.5809502407320363,0.45814882985193606,0,0.4353892928064325,1.3959443388616126,2.494944806286327,0,0,0,0,0,0.98281286936855,0.06544236502844775,0.39197895976117275,1.0232118983708405,1.6948320250605962,0.5870789693688532,0.5545299816754979,0.1677536295874357,0.5236589108348713,0,0.7022624979674865,1.075121822731991,1.4950543221102006,0,0,0.6858292532952951,1.7924132875190815,0,1.4568811749936248,1.9933057615652705,0,0.75589576337953,0,0,0.0754693268342088,0,0,0.07666455643955819,0,0,0.5231022631125187,0,0.2759005185990096,0,0.13690287653972272,0,0.30563434233601317,0,0,0.5236804890866024,0.19888702629340976,0.13763300922878124,0,0,0,0,0,0.03440742064023982,0,0.36175391553997205,1.1070474173549176,0.7463969581978366,0,1.176545585487186,0.24928812549798962]]}\" data-images=\"null\" data-options=\"null\" id=\"viz-9\" data-initialized=\"false\" class=\"feed-item\"></div></div></div></div><script>window.lightning = window.lightning || {};\n",
        "window.lightning.host = \"https://lightning-demo-source-temp.herokuapp.com/\" || 'http://127.0.0.1:3000/';\n",
        "window.lightning.vizCount = (window.lightning.vizCount + 1) || 1;\n",
        "window.lightning.requiredVizTypes = window.lightning.requiredVizTypes || [];\n",
        "if(window.lightning.requiredVizTypes.indexOf(\"line-stacked\") === -1) {\n",
        "    window.lightning.requiredVizTypes.push(\"line-stacked\");\n",
        "}\n",
        "window._require = window.require;\n",
        "window.require = undefined;\n",
        "window._define = window.define;\n",
        "window.define = undefined;</script><script src=\"https://lightning-demo-source-temp.herokuapp.com/js/embed.js\"></script>"
       ],
       "metadata": {},
       "output_type": "pyout",
       "prompt_number": 20,
       "text": [
        "<lightning.types.plots.LineStacked at 0x10a2ab450>"
       ]
      }
     ],
     "prompt_number": 20
    },
    {
     "cell_type": "markdown",
     "metadata": {},
     "source": [
      "We can also get both the model and the time series all at once by calling `run`"
     ]
    },
    {
     "cell_type": "code",
     "collapsed": false,
     "input": [
      "model, ts = SourceExtraction('localmax', minDistance=5, maxSources=3, radius=5).run(data)"
     ],
     "language": "python",
     "metadata": {},
     "outputs": [],
     "prompt_number": 21
    },
    {
     "cell_type": "markdown",
     "metadata": {},
     "source": [
      "## Block method example: nmf"
     ]
    },
    {
     "cell_type": "markdown",
     "metadata": {},
     "source": [
      "Block methods use an alternative procedure in which the data set is split into small blocks of xyzt (or xyt), an algorithm is run on each block to genreate a set of candidate sources, and then those sources are merged together. The key components of a `BlockMethod` are a `BlockAlgorithm` and a `BlockMerger`, as well as a more generic `Cleaner`. Here we use the factory to call the method `nmf`, which combined an NMF decomposition as the algorithm as (currently very simple!) merger."
     ]
    },
    {
     "cell_type": "code",
     "collapsed": false,
     "input": [
      "data = tsc.makeExample('sources', centers=10, noise=0.1)\n",
      "model = SourceExtraction(\"nmf\", percentile=90).fit(data, size=(50,50))"
     ],
     "language": "python",
     "metadata": {},
     "outputs": [],
     "prompt_number": 30
    },
    {
     "cell_type": "markdown",
     "metadata": {},
     "source": [
      "Because the output is once again a model we can access and visualize geometric properties the same as above. Note that this doesn't neccessarily do a terrific job. There is much to improve even in this basic case for both the algorithm and the merging, but more importantly, the point of the architecture is to enable new, better algorithms."
     ]
    },
    {
     "cell_type": "code",
     "collapsed": false,
     "input": [
      "lgn.imagepoly(data.mean(), model.polygons)"
     ],
     "language": "python",
     "metadata": {},
     "outputs": [
      {
       "html": [
        "<meta name=\"viewport\" content=\"width=device-width, initial-scale=1, maximum-scale=1\"/><meta http-equiv=\"X-UA-Compatible\" content=\"IE=10; IE=9; IE=8; IE=7; IE=EDGE\"/><meta charset=\"UTF-8\"/><link href=\"//fonts.googleapis.com/css?family=Open+Sans:400,700\" rel=\"stylesheet\" type=\"text/css\"/><link rel=\"stylesheet\" href=\"https://lightning-demo-source-temp.herokuapp.com/css/app.css\"/><link rel=\"stylesheet\" href=\"https://lightning-demo-source-temp.herokuapp.com/css/dynamic/viz/?visualizations[]=image-poly\"/><div id=\"lightning-body\" class=\"container content wrap push\"><div class=\"feed-container\"><div data-model=\"visualization\" data-model-id=\"15\" class=\"feed-item-container\"><div data-type=\"image-poly\" data-data=\"{&quot;coordinates&quot;:[[[31,45],[30,41],[27,37],[26,36],[21,38],[20,39],[18,42],[18,46],[19,48],[21,49],[29,49],[31,46]],[[61,20],[50,24],[50,33],[52,35],[56,37],[61,33]],[[66,15],[62,12],[57,15],[56,16],[54,20],[54,25],[58,29],[64,28],[68,26],[68,17]],[[75,65],[72,64],[68,65],[65,67],[64,71],[64,72],[65,75],[70,78],[75,78],[79,70]],[[106,56],[100,59],[100,69],[103,70],[108,69],[111,68],[112,63],[112,62],[108,57]],[[132,70],[131,65],[128,64],[125,64],[120,66],[118,71],[120,76],[123,79],[127,78],[129,77],[132,73]],[[149,71],[144,71],[143,72],[140,79],[140,80],[144,84],[149,84]],[[169,35],[168,41],[171,45],[175,46],[177,46],[181,41],[181,38],[180,33],[179,32],[177,31],[172,33]],[[154,38],[159,38],[164,37],[165,36],[163,30],[162,28],[160,26],[157,25],[155,26],[150,30],[150,35],[152,37]],[[183,60],[174,56],[173,57],[170,62],[169,65],[169,67],[171,69],[175,72],[181,70],[182,69],[183,67],[184,64]],[[150,72],[150,84],[152,84],[154,83],[155,81],[156,78],[154,73]]]}\" data-images=\"[&quot;/images/uploads/sessions/2/ay0co3XafMMeMBY9MGI9y1rJ4OTe0ZuV&quot;]\" data-options=\"null\" id=\"viz-15\" data-initialized=\"false\" class=\"feed-item\"></div></div></div></div><script>window.lightning = window.lightning || {};\n",
        "window.lightning.host = \"https://lightning-demo-source-temp.herokuapp.com/\" || 'http://127.0.0.1:3000/';\n",
        "window.lightning.vizCount = (window.lightning.vizCount + 1) || 1;\n",
        "window.lightning.requiredVizTypes = window.lightning.requiredVizTypes || [];\n",
        "if(window.lightning.requiredVizTypes.indexOf(\"image-poly\") === -1) {\n",
        "    window.lightning.requiredVizTypes.push(\"image-poly\");\n",
        "}\n",
        "window._require = window.require;\n",
        "window.require = undefined;\n",
        "window._define = window.define;\n",
        "window.define = undefined;</script><script src=\"https://lightning-demo-source-temp.herokuapp.com/js/embed.js\"></script>"
       ],
       "metadata": {},
       "output_type": "pyout",
       "prompt_number": 31,
       "text": [
        "<lightning.types.images.ImagePoly at 0x10aeb7110>"
       ]
      }
     ],
     "prompt_number": 31
    },
    {
     "cell_type": "code",
     "collapsed": false,
     "input": [
      "lgn.image(model.masks([100,200]))"
     ],
     "language": "python",
     "metadata": {},
     "outputs": [
      {
       "html": [
        "<meta name=\"viewport\" content=\"width=device-width, initial-scale=1, maximum-scale=1\"/><meta http-equiv=\"X-UA-Compatible\" content=\"IE=10; IE=9; IE=8; IE=7; IE=EDGE\"/><meta charset=\"UTF-8\"/><link href=\"//fonts.googleapis.com/css?family=Open+Sans:400,700\" rel=\"stylesheet\" type=\"text/css\"/><link rel=\"stylesheet\" href=\"https://lightning-demo-source-temp.herokuapp.com/css/app.css\"/><link rel=\"stylesheet\" href=\"https://lightning-demo-source-temp.herokuapp.com/css/dynamic/viz/?visualizations[]=image\"/><div id=\"lightning-body\" class=\"container content wrap push\"><div class=\"feed-container\"><div data-model=\"visualization\" data-model-id=\"16\" class=\"feed-item-container\"><div data-type=\"image\" data-data=\"null\" data-images=\"[&quot;/images/uploads/sessions/2/FgeqmT4sGm3SzenEE6xiK7so1tFLIOH5&quot;]\" data-options=\"null\" id=\"viz-16\" data-initialized=\"false\" class=\"feed-item\"></div></div></div></div><script>window.lightning = window.lightning || {};\n",
        "window.lightning.host = \"https://lightning-demo-source-temp.herokuapp.com/\" || 'http://127.0.0.1:3000/';\n",
        "window.lightning.vizCount = (window.lightning.vizCount + 1) || 1;\n",
        "window.lightning.requiredVizTypes = window.lightning.requiredVizTypes || [];\n",
        "if(window.lightning.requiredVizTypes.indexOf(\"image\") === -1) {\n",
        "    window.lightning.requiredVizTypes.push(\"image\");\n",
        "}\n",
        "window._require = window.require;\n",
        "window.require = undefined;\n",
        "window._define = window.define;\n",
        "window.define = undefined;</script><script src=\"https://lightning-demo-source-temp.herokuapp.com/js/embed.js\"></script>"
       ],
       "metadata": {},
       "output_type": "pyout",
       "prompt_number": 32,
       "text": [
        "<lightning.types.images.Image at 0x10a2f47d0>"
       ]
      }
     ],
     "prompt_number": 32
    }
   ],
   "metadata": {}
  }
 ]
}