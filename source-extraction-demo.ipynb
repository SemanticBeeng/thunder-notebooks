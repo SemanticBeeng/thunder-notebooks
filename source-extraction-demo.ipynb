{
 "metadata": {
  "name": "",
  "signature": "sha256:560423810bb81a64e41bd4587b8e1001573eb30e1d29832773e61cc2ef57c4e1"
 },
 "nbformat": 3,
 "nbformat_minor": 0,
 "worksheets": [
  {
   "cells": [
    {
     "cell_type": "heading",
     "level": 1,
     "metadata": {},
     "source": [
      "<img style='float: left' width=\"150px\" src=\"http://thunder-project.github.io/images/logo-outline.svg\">\n",
      "<br>\n",
      "<br>\n",
      "<br>\n",
      "&nbsp;&nbsp;&nbsp;&nbsp;&nbsp;(WIP) Source extraction in <a href='http://thunder-project.github.io/'><font color='#EB8B34'>Thunder</font></a>"
     ]
    },
    {
     "cell_type": "markdown",
     "metadata": {},
     "source": [
      "This notebook demos the **work in progress** source extraction API\n",
      "\n",
      "**Environment**\n",
      "- Run on local environment (Mac OS X)\n",
      "- Spark version 1.3.0, Thunder version 0.5.0_dev, Python version 2.7.6\n",
      "\n",
      "**Data**\n",
      "- Data are generated locally using the sources example data type\n",
      "- These data are random with trivial to identify sources, and are meant **only** to illustrate the API \n"
     ]
    },
    {
     "cell_type": "heading",
     "level": 6,
     "metadata": {},
     "source": [
      "<hr>"
     ]
    },
    {
     "cell_type": "markdown",
     "metadata": {},
     "source": [
      "## Set up lightning and other imports"
     ]
    },
    {
     "cell_type": "code",
     "collapsed": false,
     "input": [
      "from lightning import Lightning\n",
      "lgn = Lightning(ipython=True, host='http://lightning-sources-demo.herokuapp.com')"
     ],
     "language": "python",
     "metadata": {},
     "outputs": [],
     "prompt_number": 9
    },
    {
     "cell_type": "code",
     "collapsed": false,
     "input": [
      "from thunder import SourceExtraction"
     ],
     "language": "python",
     "metadata": {},
     "outputs": [],
     "prompt_number": 2
    },
    {
     "cell_type": "markdown",
     "metadata": {},
     "source": [
      "## Generate a data set"
     ]
    },
    {
     "cell_type": "code",
     "collapsed": false,
     "input": [
      "data = tsc.makeExample('sources', centers=10, noise=0.1)"
     ],
     "language": "python",
     "metadata": {},
     "outputs": [],
     "prompt_number": 3
    },
    {
     "cell_type": "markdown",
     "metadata": {},
     "source": [
      "## Feature method example: localmax"
     ]
    },
    {
     "cell_type": "markdown",
     "metadata": {},
     "source": [
      "A top-level factory method enables easy construction of source extraction methods. The first type of method we'll consider is a feature method, which proceeds in two stages: create some kind of feature from the data set (usually an array), and then apply some operator to that image to identify sources. As a particularly simple example, the `localmax` method computes a mean across time as the feature, and then finds sources as regions centered on local maxima. (*Note*: keyword arguments are propgated to the component functions, which does not support built-in error checking for invalid passed keyword arguments in the factory.)"
     ]
    },
    {
     "cell_type": "code",
     "collapsed": false,
     "input": [
      "model = SourceExtraction('localmax', minDistance=5, maxSources=10, radius=5).fit(data)"
     ],
     "language": "python",
     "metadata": {},
     "outputs": [],
     "prompt_number": 4
    },
    {
     "cell_type": "markdown",
     "metadata": {},
     "source": [
      "A model is a collection of sources"
     ]
    },
    {
     "cell_type": "code",
     "collapsed": false,
     "input": [
      "model"
     ],
     "language": "python",
     "metadata": {},
     "outputs": [
      {
       "metadata": {},
       "output_type": "pyout",
       "prompt_number": 5,
       "text": [
        "SourceModel\n",
        "10 sources"
       ]
      }
     ],
     "prompt_number": 5
    },
    {
     "cell_type": "markdown",
     "metadata": {},
     "source": [
      "It has support for easy indexing into the sources"
     ]
    },
    {
     "cell_type": "code",
     "collapsed": false,
     "input": [
      "model[0]"
     ],
     "language": "python",
     "metadata": {},
     "outputs": [
      {
       "metadata": {},
       "output_type": "pyout",
       "prompt_number": 6,
       "text": [
        "Source\n",
        "center: [59.0, 25.0]\n",
        "bbox: [55, 21, 63, 29]"
       ]
      }
     ],
     "prompt_number": 6
    },
    {
     "cell_type": "markdown",
     "metadata": {},
     "source": [
      "Along with its primary attributes, a source as lazily computed properties that are computed once upon request and then cached (avoiding expensive recomputation). These are avaialble in aggregate on the model object. For example, each source has the ability to compute a bounding polygon. We can look at just one, rendered using lightning `imagedraw` method which draws regions on top of images and supports freehand drawing."
     ]
    },
    {
     "cell_type": "code",
     "collapsed": false,
     "input": [
      "lgn.imagepoly(data.mean(), model[0].polygon)"
     ],
     "language": "python",
     "metadata": {},
     "outputs": [
      {
       "html": [
        "<meta name=\"viewport\" content=\"width=device-width, initial-scale=1, maximum-scale=1\"/><meta http-equiv=\"X-UA-Compatible\" content=\"IE=10; IE=9; IE=8; IE=7; IE=EDGE\"/><meta charset=\"UTF-8\"/><link href=\"//fonts.googleapis.com/css?family=Open+Sans:400,700\" rel=\"stylesheet\" type=\"text/css\"/><link rel=\"stylesheet\" href=\"http://lightning-sources-demo.herokuapp.com/css/app.css\"/><link rel=\"stylesheet\" href=\"http://lightning-sources-demo.herokuapp.com/css/dynamic/viz/?visualizations[]=image-poly\"/><div id=\"lightning-body\" class=\"container content wrap push\"><div class=\"feed-container\"><div data-model=\"visualization\" data-model-id=\"3\" class=\"feed-item-container\"><div data-type=\"image-poly\" data-data=\"{&quot;coordinates&quot;:[[[23,55],[21,57],[21,61],[23,63],[27,63],[29,61],[29,57],[27,55]]]}\" data-images=\"[&quot;https://s3.amazonaws.com/lightning.demos/sessions/2/6K42JmgJx16EyZTNcHfST0so7qQ23RrG&quot;]\" data-options=\"null\" id=\"viz-3\" data-initialized=\"false\" class=\"feed-item\"></div></div></div></div><script>window.lightning = window.lightning || {};\n",
        "window.lightning.host = \"http://lightning-sources-demo.herokuapp.com/\" || 'http://127.0.0.1:3000/';\n",
        "window.lightning.vizCount = (window.lightning.vizCount + 1) || 1;\n",
        "window.lightning.requiredVizTypes = window.lightning.requiredVizTypes || [];\n",
        "if(window.lightning.requiredVizTypes.indexOf(\"image-poly\") === -1) {\n",
        "    window.lightning.requiredVizTypes.push(\"image-poly\");\n",
        "}\n",
        "window._require = window.require;\n",
        "window.require = undefined;\n",
        "window._define = window.define;\n",
        "window.define = undefined;</script><script src=\"http://lightning-sources-demo.herokuapp.com/js/embed.js\"></script>"
       ],
       "metadata": {},
       "output_type": "pyout",
       "prompt_number": 10,
       "text": [
        "<lightning.types.images.ImagePoly at 0x10a2c1690>"
       ]
      }
     ],
     "prompt_number": 10
    },
    {
     "cell_type": "markdown",
     "metadata": {},
     "source": [
      "Or look at all of them."
     ]
    },
    {
     "cell_type": "code",
     "collapsed": false,
     "input": [
      "lgn.imagepoly(data.mean(), model.polygons)"
     ],
     "language": "python",
     "metadata": {},
     "outputs": [
      {
       "html": [
        "<meta name=\"viewport\" content=\"width=device-width, initial-scale=1, maximum-scale=1\"/><meta http-equiv=\"X-UA-Compatible\" content=\"IE=10; IE=9; IE=8; IE=7; IE=EDGE\"/><meta charset=\"UTF-8\"/><link href=\"//fonts.googleapis.com/css?family=Open+Sans:400,700\" rel=\"stylesheet\" type=\"text/css\"/><link rel=\"stylesheet\" href=\"http://lightning-sources-demo.herokuapp.com/css/app.css\"/><link rel=\"stylesheet\" href=\"http://lightning-sources-demo.herokuapp.com/css/dynamic/viz/?visualizations[]=image-poly\"/><div id=\"lightning-body\" class=\"container content wrap push\"><div class=\"feed-container\"><div data-model=\"visualization\" data-model-id=\"4\" class=\"feed-item-container\"><div data-type=\"image-poly\" data-data=\"{&quot;coordinates&quot;:[[[23,55],[21,57],[21,61],[23,63],[27,63],[29,61],[29,57],[27,55]],[[118,20],[118,16],[116,14],[112,14],[110,16],[110,20],[112,22],[116,22]],[[91,16],[89,18],[89,22],[91,24],[95,24],[97,22],[97,18],[95,16]],[[150,28],[150,24],[148,22],[144,22],[142,24],[142,28],[144,30],[148,30]],[[138,76],[138,72],[136,70],[132,70],[130,72],[130,76],[132,78],[136,78]],[[147,82],[147,78],[145,76],[141,76],[139,78],[139,82],[141,84],[145,84]],[[144,70],[142,72],[142,76],[144,78],[148,78],[150,76],[150,72],[148,70]],[[119,68],[117,70],[117,74],[119,76],[123,76],[125,74],[125,70],[123,68]],[[82,27],[82,23],[80,21],[76,21],[74,23],[74,27],[76,29],[80,29]],[[60,34],[58,36],[58,40],[60,42],[64,42],[66,40],[66,36],[64,34]]]}\" data-images=\"[&quot;https://s3.amazonaws.com/lightning.demos/sessions/2/3xXeoviYXtfIrwug1tqV8g6ROEmR1qiX&quot;]\" data-options=\"null\" id=\"viz-4\" data-initialized=\"false\" class=\"feed-item\"></div></div></div></div><script>window.lightning = window.lightning || {};\n",
        "window.lightning.host = \"http://lightning-sources-demo.herokuapp.com/\" || 'http://127.0.0.1:3000/';\n",
        "window.lightning.vizCount = (window.lightning.vizCount + 1) || 1;\n",
        "window.lightning.requiredVizTypes = window.lightning.requiredVizTypes || [];\n",
        "if(window.lightning.requiredVizTypes.indexOf(\"image-poly\") === -1) {\n",
        "    window.lightning.requiredVizTypes.push(\"image-poly\");\n",
        "}\n",
        "window._require = window.require;\n",
        "window.require = undefined;\n",
        "window._define = window.define;\n",
        "window.define = undefined;</script><script src=\"http://lightning-sources-demo.herokuapp.com/js/embed.js\"></script>"
       ],
       "metadata": {},
       "output_type": "pyout",
       "prompt_number": 11,
       "text": [
        "<lightning.types.images.ImagePoly at 0x1087b4690>"
       ]
      }
     ],
     "prompt_number": 11
    },
    {
     "cell_type": "markdown",
     "metadata": {},
     "source": [
      "An alternate output renders regions as masks, with or without values via the `binary` flag (here it wouldn't matter because the regions have no values)"
     ]
    },
    {
     "cell_type": "code",
     "collapsed": false,
     "input": [
      "lgn.image(model.masks(dims=(100,200), binary=True))"
     ],
     "language": "python",
     "metadata": {},
     "outputs": [
      {
       "html": [
        "<meta name=\"viewport\" content=\"width=device-width, initial-scale=1, maximum-scale=1\"/><meta http-equiv=\"X-UA-Compatible\" content=\"IE=10; IE=9; IE=8; IE=7; IE=EDGE\"/><meta charset=\"UTF-8\"/><link href=\"//fonts.googleapis.com/css?family=Open+Sans:400,700\" rel=\"stylesheet\" type=\"text/css\"/><link rel=\"stylesheet\" href=\"http://lightning-sources-demo.herokuapp.com/css/app.css\"/><link rel=\"stylesheet\" href=\"http://lightning-sources-demo.herokuapp.com/css/dynamic/viz/?visualizations[]=image\"/><div id=\"lightning-body\" class=\"container content wrap push\"><div class=\"feed-container\"><div data-model=\"visualization\" data-model-id=\"5\" class=\"feed-item-container\"><div data-type=\"image\" data-data=\"null\" data-images=\"[&quot;https://s3.amazonaws.com/lightning.demos/sessions/2/eUQGxW5uhWvuQOMHdVKnQqlF4h8ZwQ63&quot;]\" data-options=\"null\" id=\"viz-5\" data-initialized=\"false\" class=\"feed-item\"></div></div></div></div><script>window.lightning = window.lightning || {};\n",
        "window.lightning.host = \"http://lightning-sources-demo.herokuapp.com/\" || 'http://127.0.0.1:3000/';\n",
        "window.lightning.vizCount = (window.lightning.vizCount + 1) || 1;\n",
        "window.lightning.requiredVizTypes = window.lightning.requiredVizTypes || [];\n",
        "if(window.lightning.requiredVizTypes.indexOf(\"image\") === -1) {\n",
        "    window.lightning.requiredVizTypes.push(\"image\");\n",
        "}\n",
        "window._require = window.require;\n",
        "window.require = undefined;\n",
        "window._define = window.define;\n",
        "window.define = undefined;</script><script src=\"http://lightning-sources-demo.herokuapp.com/js/embed.js\"></script>"
       ],
       "metadata": {},
       "output_type": "pyout",
       "prompt_number": 12,
       "text": [
        "<lightning.types.images.Image at 0x10a2c1050>"
       ]
      }
     ],
     "prompt_number": 12
    },
    {
     "cell_type": "markdown",
     "metadata": {},
     "source": [
      "We can do the same operation but construct from modular components rather than use the factory. The key components of a `FeatureMethod` are a `FeatureCreator` and a `FeatureAlgorithm`, as well as a more generic `Cleaner`. This obeys normal argument checking on component classes."
     ]
    },
    {
     "cell_type": "code",
     "collapsed": false,
     "input": [
      "from thunder.extraction import FeatureMethod, LocalMaxFeatureAlgorithm, MeanFeatureCreator, BasicCleaner\n",
      "\n",
      "algorithm = LocalMaxFeatureAlgorithm(minDistance=5, maxSources=10, radius=5)\n",
      "creator = MeanFeatureCreator()\n",
      "cleaner = BasicCleaner(minArea=0, maxArea=200)\n",
      "\n",
      "model = FeatureMethod(algorithm, creator, cleaner).fit(data)"
     ],
     "language": "python",
     "metadata": {},
     "outputs": [],
     "prompt_number": 13
    },
    {
     "cell_type": "code",
     "collapsed": false,
     "input": [
      "lgn.imagepoly(data.mean(), model.polygons)"
     ],
     "language": "python",
     "metadata": {},
     "outputs": [
      {
       "html": [
        "<meta name=\"viewport\" content=\"width=device-width, initial-scale=1, maximum-scale=1\"/><meta http-equiv=\"X-UA-Compatible\" content=\"IE=10; IE=9; IE=8; IE=7; IE=EDGE\"/><meta charset=\"UTF-8\"/><link href=\"//fonts.googleapis.com/css?family=Open+Sans:400,700\" rel=\"stylesheet\" type=\"text/css\"/><link rel=\"stylesheet\" href=\"http://lightning-sources-demo.herokuapp.com/css/app.css\"/><link rel=\"stylesheet\" href=\"http://lightning-sources-demo.herokuapp.com/css/dynamic/viz/?visualizations[]=image-poly\"/><div id=\"lightning-body\" class=\"container content wrap push\"><div class=\"feed-container\"><div data-model=\"visualization\" data-model-id=\"6\" class=\"feed-item-container\"><div data-type=\"image-poly\" data-data=\"{&quot;coordinates&quot;:[[[23,55],[21,57],[21,61],[23,63],[27,63],[29,61],[29,57],[27,55]],[[118,20],[118,16],[116,14],[112,14],[110,16],[110,20],[112,22],[116,22]],[[91,16],[89,18],[89,22],[91,24],[95,24],[97,22],[97,18],[95,16]],[[150,28],[150,24],[148,22],[144,22],[142,24],[142,28],[144,30],[148,30]],[[138,76],[138,72],[136,70],[132,70],[130,72],[130,76],[132,78],[136,78]],[[147,82],[147,78],[145,76],[141,76],[139,78],[139,82],[141,84],[145,84]],[[144,70],[142,72],[142,76],[144,78],[148,78],[150,76],[150,72],[148,70]],[[119,68],[117,70],[117,74],[119,76],[123,76],[125,74],[125,70],[123,68]],[[82,27],[82,23],[80,21],[76,21],[74,23],[74,27],[76,29],[80,29]],[[60,34],[58,36],[58,40],[60,42],[64,42],[66,40],[66,36],[64,34]]]}\" data-images=\"[&quot;https://s3.amazonaws.com/lightning.demos/sessions/2/SOTu5brtwuIP59tl6JKSaF9Ehgf9OeOD&quot;]\" data-options=\"null\" id=\"viz-6\" data-initialized=\"false\" class=\"feed-item\"></div></div></div></div><script>window.lightning = window.lightning || {};\n",
        "window.lightning.host = \"http://lightning-sources-demo.herokuapp.com/\" || 'http://127.0.0.1:3000/';\n",
        "window.lightning.vizCount = (window.lightning.vizCount + 1) || 1;\n",
        "window.lightning.requiredVizTypes = window.lightning.requiredVizTypes || [];\n",
        "if(window.lightning.requiredVizTypes.indexOf(\"image-poly\") === -1) {\n",
        "    window.lightning.requiredVizTypes.push(\"image-poly\");\n",
        "}\n",
        "window._require = window.require;\n",
        "window.require = undefined;\n",
        "window._define = window.define;\n",
        "window.define = undefined;</script><script src=\"http://lightning-sources-demo.herokuapp.com/js/embed.js\"></script>"
       ],
       "metadata": {},
       "output_type": "pyout",
       "prompt_number": 14,
       "text": [
        "<lightning.types.images.ImagePoly at 0x10a2ab190>"
       ]
      }
     ],
     "prompt_number": 14
    },
    {
     "cell_type": "markdown",
     "metadata": {},
     "source": [
      "## Saving and loading models"
     ]
    },
    {
     "cell_type": "markdown",
     "metadata": {},
     "source": [
      "### Saving as JSON"
     ]
    },
    {
     "cell_type": "markdown",
     "metadata": {},
     "source": [
      "Models can easily be saved to JSON. We slightly modify Thunder's built-in serialization functionality to yield a simplified, more human-readable output."
     ]
    },
    {
     "cell_type": "code",
     "collapsed": false,
     "input": [
      "model.save(\"~/sources.json\")"
     ],
     "language": "python",
     "metadata": {},
     "outputs": [],
     "prompt_number": 15
    },
    {
     "cell_type": "markdown",
     "metadata": {},
     "source": [
      "Models contain both primary attributes (id, coordinates, values) and lazily derived attributes (center, bounding box, polygon boundary, etc.). By default, lazy attributes are not saved, as they are not neccessary for reconstituing sources. However, they can be optionally selected for inclusion, in which case they will also be persisted (and automatically reloaded, potentially saving recomputation)."
     ]
    },
    {
     "cell_type": "code",
     "collapsed": false,
     "input": [
      "model.save(\"~/sources.json\", include=\"polygon\")"
     ],
     "language": "python",
     "metadata": {},
     "outputs": [],
     "prompt_number": 16
    },
    {
     "cell_type": "code",
     "collapsed": false,
     "input": [
      "model.save(\"~/sources.json\", include=[\"center\", \"area\", \"polygon\"])"
     ],
     "language": "python",
     "metadata": {},
     "outputs": [],
     "prompt_number": 17
    },
    {
     "cell_type": "markdown",
     "metadata": {},
     "source": [
      "### Loading from JSON"
     ]
    },
    {
     "cell_type": "markdown",
     "metadata": {},
     "source": [
      "The same model can then be loaded back in"
     ]
    },
    {
     "cell_type": "code",
     "collapsed": false,
     "input": [
      "model = SourceExtraction.load(\"~/sources.json\")\n",
      "lgn.imagepoly(data.mean(), model.polygons)"
     ],
     "language": "python",
     "metadata": {},
     "outputs": [
      {
       "html": [
        "<meta name=\"viewport\" content=\"width=device-width, initial-scale=1, maximum-scale=1\"/><meta http-equiv=\"X-UA-Compatible\" content=\"IE=10; IE=9; IE=8; IE=7; IE=EDGE\"/><meta charset=\"UTF-8\"/><link href=\"//fonts.googleapis.com/css?family=Open+Sans:400,700\" rel=\"stylesheet\" type=\"text/css\"/><link rel=\"stylesheet\" href=\"http://lightning-sources-demo.herokuapp.com/css/app.css\"/><link rel=\"stylesheet\" href=\"http://lightning-sources-demo.herokuapp.com/css/dynamic/viz/?visualizations[]=image-poly\"/><div id=\"lightning-body\" class=\"container content wrap push\"><div class=\"feed-container\"><div data-model=\"visualization\" data-model-id=\"7\" class=\"feed-item-container\"><div data-type=\"image-poly\" data-data=\"{&quot;coordinates&quot;:[[[23,55],[21,57],[21,61],[23,63],[27,63],[29,61],[29,57],[27,55]],[[118,20],[118,16],[116,14],[112,14],[110,16],[110,20],[112,22],[116,22]],[[91,16],[89,18],[89,22],[91,24],[95,24],[97,22],[97,18],[95,16]],[[150,28],[150,24],[148,22],[144,22],[142,24],[142,28],[144,30],[148,30]],[[138,76],[138,72],[136,70],[132,70],[130,72],[130,76],[132,78],[136,78]],[[147,82],[147,78],[145,76],[141,76],[139,78],[139,82],[141,84],[145,84]],[[144,70],[142,72],[142,76],[144,78],[148,78],[150,76],[150,72],[148,70]],[[119,68],[117,70],[117,74],[119,76],[123,76],[125,74],[125,70],[123,68]],[[82,27],[82,23],[80,21],[76,21],[74,23],[74,27],[76,29],[80,29]],[[60,34],[58,36],[58,40],[60,42],[64,42],[66,40],[66,36],[64,34]]]}\" data-images=\"[&quot;https://s3.amazonaws.com/lightning.demos/sessions/2/9uB3ENf5h0aQffx4yEF07YlgS62cHJbX&quot;]\" data-options=\"null\" id=\"viz-7\" data-initialized=\"false\" class=\"feed-item\"></div></div></div></div><script>window.lightning = window.lightning || {};\n",
        "window.lightning.host = \"http://lightning-sources-demo.herokuapp.com/\" || 'http://127.0.0.1:3000/';\n",
        "window.lightning.vizCount = (window.lightning.vizCount + 1) || 1;\n",
        "window.lightning.requiredVizTypes = window.lightning.requiredVizTypes || [];\n",
        "if(window.lightning.requiredVizTypes.indexOf(\"image-poly\") === -1) {\n",
        "    window.lightning.requiredVizTypes.push(\"image-poly\");\n",
        "}\n",
        "window._require = window.require;\n",
        "window.require = undefined;\n",
        "window._define = window.define;\n",
        "window.define = undefined;</script><script src=\"http://lightning-sources-demo.herokuapp.com/js/embed.js\"></script>"
       ],
       "metadata": {},
       "output_type": "pyout",
       "prompt_number": 18,
       "text": [
        "<lightning.types.images.ImagePoly at 0x1087b4750>"
       ]
      }
     ],
     "prompt_number": 18
    },
    {
     "cell_type": "markdown",
     "metadata": {},
     "source": [
      "## Getting time series"
     ]
    },
    {
     "cell_type": "markdown",
     "metadata": {},
     "source": [
      "Once a source model is constructed, we can use it to extract time series from a data set. Currently only simple averaging over regions is supported, but we will add support for weighted regions, and methods that do some form of local unmixing (via regression)."
     ]
    },
    {
     "cell_type": "code",
     "collapsed": false,
     "input": [
      "data, ts, centers = tsc.makeExample('sources', centers=3, noise=0.1, returnParams=True)\n",
      "model = SourceExtraction('localmax', minDistance=5, maxSources=3, radius=5).fit(data)\n",
      "ts_recon = model.transform(data)"
     ],
     "language": "python",
     "metadata": {},
     "outputs": [],
     "prompt_number": 19
    },
    {
     "cell_type": "code",
     "collapsed": false,
     "input": [
      "lgn.imagepoly(data.mean(), model.polygons)"
     ],
     "language": "python",
     "metadata": {},
     "outputs": [
      {
       "html": [
        "<meta name=\"viewport\" content=\"width=device-width, initial-scale=1, maximum-scale=1\"/><meta http-equiv=\"X-UA-Compatible\" content=\"IE=10; IE=9; IE=8; IE=7; IE=EDGE\"/><meta charset=\"UTF-8\"/><link href=\"//fonts.googleapis.com/css?family=Open+Sans:400,700\" rel=\"stylesheet\" type=\"text/css\"/><link rel=\"stylesheet\" href=\"http://lightning-sources-demo.herokuapp.com/css/app.css\"/><link rel=\"stylesheet\" href=\"http://lightning-sources-demo.herokuapp.com/css/dynamic/viz/?visualizations[]=image-poly\"/><div id=\"lightning-body\" class=\"container content wrap push\"><div class=\"feed-container\"><div data-model=\"visualization\" data-model-id=\"8\" class=\"feed-item-container\"><div data-type=\"image-poly\" data-data=\"{&quot;coordinates&quot;:[[[72,66],[72,62],[70,60],[66,60],[64,62],[64,66],[66,68],[70,68]],[[159,43],[157,45],[157,49],[159,51],[163,51],[165,49],[165,45],[163,43]],[[48,21],[46,23],[46,27],[48,29],[52,29],[54,27],[54,23],[52,21]]]}\" data-images=\"[&quot;https://s3.amazonaws.com/lightning.demos/sessions/2/C3rNHeNrnQpyy7ztp1MXTDb4UEWwoSIG&quot;]\" data-options=\"null\" id=\"viz-8\" data-initialized=\"false\" class=\"feed-item\"></div></div></div></div><script>window.lightning = window.lightning || {};\n",
        "window.lightning.host = \"http://lightning-sources-demo.herokuapp.com/\" || 'http://127.0.0.1:3000/';\n",
        "window.lightning.vizCount = (window.lightning.vizCount + 1) || 1;\n",
        "window.lightning.requiredVizTypes = window.lightning.requiredVizTypes || [];\n",
        "if(window.lightning.requiredVizTypes.indexOf(\"image-poly\") === -1) {\n",
        "    window.lightning.requiredVizTypes.push(\"image-poly\");\n",
        "}\n",
        "window._require = window.require;\n",
        "window.require = undefined;\n",
        "window._define = window.define;\n",
        "window.define = undefined;</script><script src=\"http://lightning-sources-demo.herokuapp.com/js/embed.js\"></script>"
       ],
       "metadata": {},
       "output_type": "pyout",
       "prompt_number": 20,
       "text": [
        "<lightning.types.images.ImagePoly at 0x10aeced90>"
       ]
      }
     ],
     "prompt_number": 20
    },
    {
     "cell_type": "markdown",
     "metadata": {},
     "source": [
      "Compare real and estimated time series (note that colors may not correspond one-to-one because order is arbitrary)"
     ]
    },
    {
     "cell_type": "code",
     "collapsed": false,
     "input": [
      "lgn.linestacked(ts_recon)"
     ],
     "language": "python",
     "metadata": {},
     "outputs": [
      {
       "html": [
        "<meta name=\"viewport\" content=\"width=device-width, initial-scale=1, maximum-scale=1\"/><meta http-equiv=\"X-UA-Compatible\" content=\"IE=10; IE=9; IE=8; IE=7; IE=EDGE\"/><meta charset=\"UTF-8\"/><link href=\"//fonts.googleapis.com/css?family=Open+Sans:400,700\" rel=\"stylesheet\" type=\"text/css\"/><link rel=\"stylesheet\" href=\"http://lightning-sources-demo.herokuapp.com/css/app.css\"/><link rel=\"stylesheet\" href=\"http://lightning-sources-demo.herokuapp.com/css/dynamic/viz/?visualizations[]=line-stacked\"/><div id=\"lightning-body\" class=\"container content wrap push\"><div class=\"feed-container\"><div data-model=\"visualization\" data-model-id=\"9\" class=\"feed-item-container\"><div data-type=\"line-stacked\" data-data=\"{&quot;series&quot;:[[1.104911372984214,0.01599931455321995,0.01057752932816707,0.14255089537892915,0.017320640478790762,0.013318751878923604,0.012045034548293632,0.016858566677058553,0.8292169406295334,0.5930483016198046,1.1755047145675017,0.9783089480507017,0.6291447449338765,-0.0013339511788434525,0.572530750229911,0.44297868946025565,0.016537320771778274,-0.01704597631325748,0.25441678173848464,-0.04448184161340541,0.0016789269468011714,0.6321408033506286,0.8576641903336845,-0.010311119459320488,0.5790470990521962,-0.00601451874337215,0.4021104755258606,1.0286721093247793,-0.009274226241321775,0.8891667441189898,0.35110944025919655,0.26588209283135344,0.014904937536697947,-0.018776972484039672,0.4650606909554609,0.25008440946509175,-0.011686937282633467,0.38750218199180486,0.013953574128343712,1.1312377064425714,0.40921535689683364,0.3652549332646193,-0.000986751022855021,1.3592096270286518,0.1197760547175465,0.7375998550264615,0.013001217747175537,-0.0194238444490834,0.011366760623050982,0.008494850157669145,0.37474591547219294,0.43648534069537986,-0.020209980616561946,-0.006901162005401946,0.009856991484374246,-0.00045635021281832666,-0.0272025957501243,0.707282980063137,1.128085326731881,0.0121136738598978,0.3310596866662277,0.01393551324154302,0.7641981380142504,0.7006332073601884,-0.008622811627671086,0.5620886152722512,0.25314560656614354,0.34225715957109804,0.003944203396844858,0.27876858029412166,0.5408074051784371,-0.028241059437225016,0.4684013820394821,0.15437590496085804,-0.03434090038219433,1.058282866422441,0.5051348206529042,0.8661642552875789,-0.018460163297303173,0.6131678153994324,0.007787391208255084,0.015824862969747524,0.25583246636867013,0.8751143419825169,-0.007651006924562859,0.3704615133210322,1.1596258649681024,-0.010455955178985019,0.03548244613300829,-0.04145923527582063,0.8609102688553937,0.22798337460852205,-0.028528828824839383,0.012513030509286453,1.2855359278055773,0.20580104573320288,0.8998269588954719,0.01292261264445142,0.36464959343472503,1.4197489138672412],[0.01513092544100604,0.3195889560411117,1.147203584668908,0.007344902698971087,0.043825635499587186,-0.03282616666811078,0.338787657152445,0.27467456193745066,0.11781414926948759,0.002610089924320262,0.008035902046300543,0.12992571548983475,0.012517110712581313,1.4426617494123222,-0.014039295937433811,0.010102634503522452,-0.0410405203348239,0.4099167905941992,0.5226965100644683,-0.00997957780244025,0.008702601637224125,1.1619629191803038,0.9241807921970632,0.005496386536726034,0.5408295640240098,-0.009468444085389155,0.1829268477009816,0.000010642564871727612,-0.002421888914593727,0.031429236779331966,0.18784345185898516,-0.012301259775070149,0.0011027313762166577,0.5049645589743879,0.15574364638916038,-0.003966361592553339,-0.025833516772552443,-0.019118678237862063,0.9420067065276871,-0.006325446093110203,0.05394270507292512,0.4556317584127573,0.0153151120642336,1.4034352440159565,0.6294258117883342,1.69408395882285,0.15484421121428352,0.6016633662903664,-0.02704924677642684,0.2557597694540333,-0.021072909082430688,0.09233212922842166,-0.014384480487318281,0.5329767907692163,0.01658388268188842,0.0025240057071886602,0.6798934732795294,0.0019113888258072685,0.013186136443750097,-0.015648816728341605,0.009272076049826211,0.7657059642106187,0.13867386754021482,0.029307721945411105,0.013335561039769262,1.0532303907084868,0.020577977329506322,0.013405598119056481,0.020077276974786805,0.7415610932436356,-0.00942747603868904,0.8438755299904493,0.3313785502482244,-0.00687707146932408,-0.03371737570818182,0.015972510906669596,-0.016013534275037,-0.03624733125554127,0.24619844865236817,0.12644403389550946,1.7070926310901207,-0.005082985426413888,-0.03180238376836142,0.015066674631474448,-0.005558826982353496,0.0047045582168943325,0.5376604489348429,0.48588400652434716,1.0314780990380379,-0.021989868345180574,-0.027809500933246325,0.8888317673624802,1.2195833074679976,-0.03368615492920218,0.009858962039911916,0.23454086074888286,-0.011286035575793085,1.2420270044351815,0.0064207700695439116,0.47186736781621713],[-0.0065108553402599655,-0.03324059373890267,0.00220754516441971,0.3185275387615012,0.0042079646138577665,0.009146818413340188,0.34322828164894764,1.5242567659720485,0.08476744515524645,-0.00732100779377111,-0.011985769871232564,0.7656420429462857,0.03135751880876974,0.24762772518356763,0.046918112250956365,0.7032256486473845,0.017108216839852832,0.268350023253556,0.003734716174775254,0.1700215070653131,0.002585403372050291,-0.0025442818348061645,0.1691088850325111,0.14236069277673363,0.3241681042360865,0.031254620104421,-0.008475408905998131,0.0286060152808493,0.01982140205093926,0.7906185852922796,-0.037313950301910495,0.6341759357839498,0.010488002918103721,-0.03502318368823557,0.4925787439743294,-0.012448841090368484,0.0034357206070041962,0.021211825772295856,-0.02616439083731279,0.7389735371797185,-0.004546519450274058,1.2426290577806662,0.006425056256213896,0.34362538899729517,-0.00034845876669721033,0.36256131330872876,0.000802441043407692,0.00737067477658978,-0.021278034996653924,0.877881094719523,-0.035635973620284936,0.5855229324982993,0.4034265115395329,0.22058313305812535,0.24888044377317634,0.006899959047870318,0.7411611503749339,-0.009679493870304944,0.03889741490369969,0.3300960300233057,0.029247678316018995,0.41255969212131566,-0.010274655766242861,-0.005499841459375084,-0.022032106947225242,0.1850675819613996,0.9951498816750468,-0.01140388922803813,0.03656900414022045,0.35837652222847494,-0.04623062504003937,-0.030527664541511585,-0.00745155924047405,-0.013292106443185812,0.005357326331035056,0.37586586767786634,0.6992027449154781,0.010791077745028825,0.019654934970325885,-0.0002953564677644494,0.40653793668576166,0.034706680916713875,-0.03199868937981133,-0.027154765309150293,-0.010781305833856773,1.1939783173602294,0.0004811974065319834,0.22330881331884492,-0.007650356801998427,0.006867356398983252,0.044081464825191256,0.4422610071672617,0.3892511039102587,0.001912249305861063,0.3971136891121962,-0.023246451601044063,-0.009040581115613889,-0.027767507587194616,0.0036047423975800966,0.04048710820943]]}\" data-images=\"null\" data-options=\"null\" id=\"viz-9\" data-initialized=\"false\" class=\"feed-item\"></div></div></div></div><script>window.lightning = window.lightning || {};\n",
        "window.lightning.host = \"http://lightning-sources-demo.herokuapp.com/\" || 'http://127.0.0.1:3000/';\n",
        "window.lightning.vizCount = (window.lightning.vizCount + 1) || 1;\n",
        "window.lightning.requiredVizTypes = window.lightning.requiredVizTypes || [];\n",
        "if(window.lightning.requiredVizTypes.indexOf(\"line-stacked\") === -1) {\n",
        "    window.lightning.requiredVizTypes.push(\"line-stacked\");\n",
        "}\n",
        "window._require = window.require;\n",
        "window.require = undefined;\n",
        "window._define = window.define;\n",
        "window.define = undefined;</script><script src=\"http://lightning-sources-demo.herokuapp.com/js/embed.js\"></script>"
       ],
       "metadata": {},
       "output_type": "pyout",
       "prompt_number": 21,
       "text": [
        "<lightning.types.plots.LineStacked at 0x10a2f5e90>"
       ]
      }
     ],
     "prompt_number": 21
    },
    {
     "cell_type": "code",
     "collapsed": false,
     "input": [
      "lgn.linestacked(ts)"
     ],
     "language": "python",
     "metadata": {},
     "outputs": [
      {
       "html": [
        "<meta name=\"viewport\" content=\"width=device-width, initial-scale=1, maximum-scale=1\"/><meta http-equiv=\"X-UA-Compatible\" content=\"IE=10; IE=9; IE=8; IE=7; IE=EDGE\"/><meta charset=\"UTF-8\"/><link href=\"//fonts.googleapis.com/css?family=Open+Sans:400,700\" rel=\"stylesheet\" type=\"text/css\"/><link rel=\"stylesheet\" href=\"http://lightning-sources-demo.herokuapp.com/css/app.css\"/><link rel=\"stylesheet\" href=\"http://lightning-sources-demo.herokuapp.com/css/dynamic/viz/?visualizations[]=line-stacked\"/><div id=\"lightning-body\" class=\"container content wrap push\"><div class=\"feed-container\"><div data-model=\"visualization\" data-model-id=\"10\" class=\"feed-item-container\"><div data-type=\"line-stacked\" data-data=\"{&quot;series&quot;:[[0,0,0,0.5504126682177626,0,0,0.5487785052248572,2.607861685263245,0.16281876519515281,0,0,1.2926541594359462,0,0.37787201450601,0.02471280463723365,1.1814973728911766,0,0.4418845406413273,0,0.26394213569627545,0,0,0.2674075235279823,0.17362903992647694,0.6203898035020062,0,0,0,0,1.4043681784470625,0,1.1150530585575151,0,0,0.8359758622194768,0,0.0430804634821205,0,0,1.274118857327068,0,2.1414278315851387,0,0.5793393446214263,0,0.5820786609598739,0,0,0,1.5051244515436533,0,0.9681244398054676,0.7574617317542467,0.3389579463864927,0.4595080044746329,0,1.3157902169078537,0,0,0.624053869782955,0,0.7290270359825654,0,0,0,0.377555902091127,1.7753206038604636,0,0.04953536286775082,0.6182648660999251,0,0,0,0,0,0.6588819166423585,1.2129186231389566,0,0,0,0.6988149281668619,0,0,0,0,2.057216649182124,0,0.3763144804344732,0,0,0,0.7053751776053377,0.6372315331873406,0,0.6732311612881842,0,0,0,0,0],[1.8716294663334738,0,0,0.2104122306339707,0,0,0,0,1.406524973276375,1.0167261186892123,2.0660828141014,1.6053765903116133,1.0394040491728396,0,0.9434417013718195,0.7329505167181857,0,0,0.42943050194676846,0,0,1.0976633375899763,1.5143598393338622,0,1.0249287443276092,0,0.7197406279152916,1.7506631763652358,0,1.5378065248227433,0.6080765547155127,0.44927284898735176,0,0,0.8286024429803196,0.47771642941018694,0,0.6963291011332766,0,1.9902466111886103,0.6632254963195054,0.7197147181685176,0,2.373846335348147,0.1937858534148967,1.2607779943960942,0,0,0,0,0.6718341595177681,0.6885529851330761,0,0,0,0,0,1.1907290973215354,1.9336038252638463,0,0.5018481167304285,0,1.3465960195381608,1.2689214164113962,0,0.905498058450812,0.46798540297765784,0.5976675489337178,0,0.47341953821068905,0.9648358709204673,0,0.7324927847971132,0.2069203599837371,0,1.7984482634205077,0.8412445818670624,1.443100827389282,0,1.1160408177178804,0,0,0.4392125670662007,1.5209934622690358,0,0.6007690749521395,2.0355650868734028,0,0.08076979329900201,0,1.4387255222669415,0.3997575652730809,0,0,2.2471778100889948,0.3345930440923669,1.554325358745587,0,0.6056857353077532,2.4693347374507697],[0,0.5353102198769086,1.9705457273126374,0,0.042054135556114085,0,0.6176176855622275,0.4571609132164732,0.153808163187911,0,0,0.2117630524320391,0,2.3975122701251332,0,0,0,0.7010577963718904,0.8568487580676836,0,0,1.9535243366882764,1.6182554490460892,0,0.9290611907410307,0,0.38979160657348616,0,0,0,0.35343442533851394,0,0,0.8015484211813477,0.30251057911740686,0,0,0,1.6127987609626329,0,0.11220035876706698,0.7954933328292384,0,2.401284877407138,0.988636040926005,2.8905687701403964,0.20301486397681973,1.025118939843108,0,0.44835244450506645,0,0.15875594141462607,0,0.8561177089772213,0,0,1.1594515278968522,0,0,0,0,1.253805566688605,0.3032072875629499,0,0,1.7658562502210398,0,0,0,1.2939674698332646,0,1.4633328831368781,0.6172000783000924,0,0,0,0,0,0.3934741346215592,0.24084698275732283,2.887649361546769,0,0,0,0,0,0.9572584361787735,0.7674294416227462,1.8253857118249919,0,0,1.4663335861569675,2.0234539322487115,0,0,0.3402313336802259,0,2.133352327533189,0,0.7996871151473963]]}\" data-images=\"null\" data-options=\"null\" id=\"viz-10\" data-initialized=\"false\" class=\"feed-item\"></div></div></div></div><script>window.lightning = window.lightning || {};\n",
        "window.lightning.host = \"http://lightning-sources-demo.herokuapp.com/\" || 'http://127.0.0.1:3000/';\n",
        "window.lightning.vizCount = (window.lightning.vizCount + 1) || 1;\n",
        "window.lightning.requiredVizTypes = window.lightning.requiredVizTypes || [];\n",
        "if(window.lightning.requiredVizTypes.indexOf(\"line-stacked\") === -1) {\n",
        "    window.lightning.requiredVizTypes.push(\"line-stacked\");\n",
        "}\n",
        "window._require = window.require;\n",
        "window.require = undefined;\n",
        "window._define = window.define;\n",
        "window.define = undefined;</script><script src=\"http://lightning-sources-demo.herokuapp.com/js/embed.js\"></script>"
       ],
       "metadata": {},
       "output_type": "pyout",
       "prompt_number": 22,
       "text": [
        "<lightning.types.plots.LineStacked at 0x1087b4710>"
       ]
      }
     ],
     "prompt_number": 22
    },
    {
     "cell_type": "markdown",
     "metadata": {},
     "source": [
      "We can also get both the model and the time series all at once by calling `run`"
     ]
    },
    {
     "cell_type": "code",
     "collapsed": false,
     "input": [
      "model, ts = SourceExtraction('localmax', minDistance=5, maxSources=3, radius=5).run(data)"
     ],
     "language": "python",
     "metadata": {},
     "outputs": [],
     "prompt_number": 23
    },
    {
     "cell_type": "markdown",
     "metadata": {},
     "source": [
      "## Block method example: nmf"
     ]
    },
    {
     "cell_type": "markdown",
     "metadata": {},
     "source": [
      "Block methods use an alternative procedure in which the data set is split into small blocks of xyzt (or xyt), an algorithm is run on each block to genreate a set of candidate sources, and then those sources are merged together. The key components of a `BlockMethod` are a `BlockAlgorithm` and a `BlockMerger`, as well as a more generic `Cleaner`. Here we use the factory to call the method `nmf`, which combined an NMF decomposition as the algorithm as (currently very simple!) merger."
     ]
    },
    {
     "cell_type": "code",
     "collapsed": false,
     "input": [
      "data = tsc.makeExample('sources', centers=10, noise=0.1)\n",
      "model = SourceExtraction(\"nmf\", percentile=90).fit(data, size=(50,50))"
     ],
     "language": "python",
     "metadata": {},
     "outputs": [],
     "prompt_number": 26
    },
    {
     "cell_type": "markdown",
     "metadata": {},
     "source": [
      "Because the output is once again a model we can access and visualize geometric properties the same as above. Note that this doesn't neccessarily do a terrific job. There is much to improve even in this basic case for both the algorithm and the merging, but more importantly, the point of the architecture is to enable new, better algorithms."
     ]
    },
    {
     "cell_type": "code",
     "collapsed": false,
     "input": [
      "lgn.imagepoly(data.mean(), model.polygons)"
     ],
     "language": "python",
     "metadata": {},
     "outputs": [
      {
       "html": [
        "<meta name=\"viewport\" content=\"width=device-width, initial-scale=1, maximum-scale=1\"/><meta http-equiv=\"X-UA-Compatible\" content=\"IE=10; IE=9; IE=8; IE=7; IE=EDGE\"/><meta charset=\"UTF-8\"/><link href=\"//fonts.googleapis.com/css?family=Open+Sans:400,700\" rel=\"stylesheet\" type=\"text/css\"/><link rel=\"stylesheet\" href=\"http://lightning-sources-demo.herokuapp.com/css/app.css\"/><link rel=\"stylesheet\" href=\"http://lightning-sources-demo.herokuapp.com/css/dynamic/viz/?visualizations[]=image-poly\"/><div id=\"lightning-body\" class=\"container content wrap push\"><div class=\"feed-container\"><div data-model=\"visualization\" data-model-id=\"12\" class=\"feed-item-container\"><div data-type=\"image-poly\" data-data=\"{&quot;coordinates&quot;:[[[32,74],[29,68],[27,67],[25,67],[19,69],[17,70],[18,75],[20,79],[21,80],[23,81],[28,79],[32,75]],[[35,64],[43,70],[46,69],[48,68],[49,66],[49,59],[48,57],[47,56],[41,57],[40,58]],[[18,61],[26,61],[28,59],[30,55],[29,52],[27,50],[19,50],[18,51],[15,55],[17,60]],[[65,25],[61,21],[54,23],[52,28],[52,31],[55,35],[56,36],[61,36],[65,32],[66,30]],[[67,19],[62,19],[59,22],[58,24],[58,29],[59,30],[62,32],[64,33],[68,32],[70,28],[72,22]],[[131,49],[143,49],[145,46],[138,42],[135,42],[129,48]],[[108,43],[113,46],[117,45],[119,44],[120,43],[121,40],[121,35],[118,33],[108,31],[107,33],[107,39]],[[132,56],[137,57],[141,56],[145,52],[142,50],[131,50],[129,51]],[[165,40],[164,35],[163,34],[159,31],[157,31],[152,34],[151,35],[151,37],[152,41],[154,45],[157,46],[160,45]],[[166,69],[162,68],[158,70],[156,72],[154,75],[155,79],[157,81],[160,82],[164,82],[168,77]],[[188,69],[181,67],[178,68],[176,69],[174,72],[174,78],[177,80],[180,81],[184,82],[186,79],[189,74]]]}\" data-images=\"[&quot;https://s3.amazonaws.com/lightning.demos/sessions/2/hBW0DYqTRA9Gw8RZcQFU4aJQWkb1Gq6H&quot;]\" data-options=\"null\" id=\"viz-12\" data-initialized=\"false\" class=\"feed-item\"></div></div></div></div><script>window.lightning = window.lightning || {};\n",
        "window.lightning.host = \"http://lightning-sources-demo.herokuapp.com/\" || 'http://127.0.0.1:3000/';\n",
        "window.lightning.vizCount = (window.lightning.vizCount + 1) || 1;\n",
        "window.lightning.requiredVizTypes = window.lightning.requiredVizTypes || [];\n",
        "if(window.lightning.requiredVizTypes.indexOf(\"image-poly\") === -1) {\n",
        "    window.lightning.requiredVizTypes.push(\"image-poly\");\n",
        "}\n",
        "window._require = window.require;\n",
        "window.require = undefined;\n",
        "window._define = window.define;\n",
        "window.define = undefined;</script><script src=\"http://lightning-sources-demo.herokuapp.com/js/embed.js\"></script>"
       ],
       "metadata": {},
       "output_type": "pyout",
       "prompt_number": 27,
       "text": [
        "<lightning.types.images.ImagePoly at 0x10706ddd0>"
       ]
      }
     ],
     "prompt_number": 27
    },
    {
     "cell_type": "code",
     "collapsed": false,
     "input": [
      "lgn.image(model.masks([100,200]))"
     ],
     "language": "python",
     "metadata": {},
     "outputs": [
      {
       "html": [
        "<meta name=\"viewport\" content=\"width=device-width, initial-scale=1, maximum-scale=1\"/><meta http-equiv=\"X-UA-Compatible\" content=\"IE=10; IE=9; IE=8; IE=7; IE=EDGE\"/><meta charset=\"UTF-8\"/><link href=\"//fonts.googleapis.com/css?family=Open+Sans:400,700\" rel=\"stylesheet\" type=\"text/css\"/><link rel=\"stylesheet\" href=\"http://lightning-sources-demo.herokuapp.com/css/app.css\"/><link rel=\"stylesheet\" href=\"http://lightning-sources-demo.herokuapp.com/css/dynamic/viz/?visualizations[]=image\"/><div id=\"lightning-body\" class=\"container content wrap push\"><div class=\"feed-container\"><div data-model=\"visualization\" data-model-id=\"13\" class=\"feed-item-container\"><div data-type=\"image\" data-data=\"null\" data-images=\"[&quot;https://s3.amazonaws.com/lightning.demos/sessions/2/gqcfXLTK1N6DZiFiffNREEmyvNT8lCKl&quot;]\" data-options=\"null\" id=\"viz-13\" data-initialized=\"false\" class=\"feed-item\"></div></div></div></div><script>window.lightning = window.lightning || {};\n",
        "window.lightning.host = \"http://lightning-sources-demo.herokuapp.com/\" || 'http://127.0.0.1:3000/';\n",
        "window.lightning.vizCount = (window.lightning.vizCount + 1) || 1;\n",
        "window.lightning.requiredVizTypes = window.lightning.requiredVizTypes || [];\n",
        "if(window.lightning.requiredVizTypes.indexOf(\"image\") === -1) {\n",
        "    window.lightning.requiredVizTypes.push(\"image\");\n",
        "}\n",
        "window._require = window.require;\n",
        "window.require = undefined;\n",
        "window._define = window.define;\n",
        "window.define = undefined;</script><script src=\"http://lightning-sources-demo.herokuapp.com/js/embed.js\"></script>"
       ],
       "metadata": {},
       "output_type": "pyout",
       "prompt_number": 28,
       "text": [
        "<lightning.types.images.Image at 0x10a2ab550>"
       ]
      }
     ],
     "prompt_number": 28
    }
   ],
   "metadata": {}
  }
 ]
}