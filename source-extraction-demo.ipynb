{
 "metadata": {
  "name": "",
  "signature": "sha256:395da9eaa566690ab835f7a87101e188cce37e70dc4eb99e48ac85f84cf0945b"
 },
 "nbformat": 3,
 "nbformat_minor": 0,
 "worksheets": [
  {
   "cells": [
    {
     "cell_type": "heading",
     "level": 1,
     "metadata": {},
     "source": [
      "<img style='float: left' width=\"150px\" src=\"http://thunder-project.github.io/images/logo-outline.svg\">\n",
      "<br>\n",
      "<br>\n",
      "<br>\n",
      "&nbsp;&nbsp;&nbsp;&nbsp;&nbsp;(WIP) Source extraction in <a href='http://thunder-project.github.io/'><font color='#EB8B34'>Thunder</font></a>"
     ]
    },
    {
     "cell_type": "markdown",
     "metadata": {},
     "source": [
      "This notebook demos the **work in progress** source extraction API\n",
      "\n",
      "**Environment**\n",
      "- Run on local environment (Mac OS X)\n",
      "- Spark version 1.3.0, Thunder version 0.5.0_dev, Python version 2.7.6\n",
      "\n",
      "**Data**\n",
      "- Data are generated locally using the sources example data type\n",
      "- These data are random with trivial to identify sources, and are meant **only** to illustrate the API \n"
     ]
    },
    {
     "cell_type": "heading",
     "level": 6,
     "metadata": {},
     "source": [
      "<hr>"
     ]
    },
    {
     "cell_type": "markdown",
     "metadata": {},
     "source": [
      "## Set up lightning and other imports"
     ]
    },
    {
     "cell_type": "code",
     "collapsed": false,
     "input": [
      "from lightning import Lightning\n",
      "lgn = Lightning(ipython=True, host='http://lightning-sources-demo.herokuapp.com/')"
     ],
     "language": "python",
     "metadata": {},
     "outputs": [],
     "prompt_number": 16
    },
    {
     "cell_type": "code",
     "collapsed": false,
     "input": [
      "from thunder import SourceExtraction"
     ],
     "language": "python",
     "metadata": {},
     "outputs": [],
     "prompt_number": 17
    },
    {
     "cell_type": "markdown",
     "metadata": {},
     "source": [
      "## Generate a data set"
     ]
    },
    {
     "cell_type": "code",
     "collapsed": false,
     "input": [
      "data = tsc.makeExample('sources', centers=10, noise=0.1)"
     ],
     "language": "python",
     "metadata": {},
     "outputs": [],
     "prompt_number": 18
    },
    {
     "cell_type": "markdown",
     "metadata": {},
     "source": [
      "## Feature method example: localmax"
     ]
    },
    {
     "cell_type": "markdown",
     "metadata": {},
     "source": [
      "A top-level factory method enables easy construction of source extraction methods. The first type of method we'll consider is a feature method, which proceeds in two stages: create some kind of feature from the data set (usually an array), and then apply some operator to that image to identify sources. As a particularly simple example, the `localmax` method computes a mean across time as the feature, and then finds sources as regions centered on local maxima. (*Note*: keyword arguments are propgated to the component functions, which does not support built-in error checking for invalid passed keyword arguments in the factory.)"
     ]
    },
    {
     "cell_type": "code",
     "collapsed": false,
     "input": [
      "model = SourceExtraction('localmax', minDistance=5, maxSources=10, radius=5).fit(data)"
     ],
     "language": "python",
     "metadata": {},
     "outputs": [],
     "prompt_number": 19
    },
    {
     "cell_type": "markdown",
     "metadata": {},
     "source": [
      "A model is a collection of sources"
     ]
    },
    {
     "cell_type": "code",
     "collapsed": false,
     "input": [
      "model"
     ],
     "language": "python",
     "metadata": {},
     "outputs": [
      {
       "metadata": {},
       "output_type": "pyout",
       "prompt_number": 20,
       "text": [
        "SourceModel\n",
        "10 sources"
       ]
      }
     ],
     "prompt_number": 20
    },
    {
     "cell_type": "markdown",
     "metadata": {},
     "source": [
      "It has support for easy indexing into the sources"
     ]
    },
    {
     "cell_type": "code",
     "collapsed": false,
     "input": [
      "model[0]"
     ],
     "language": "python",
     "metadata": {},
     "outputs": [
      {
       "metadata": {},
       "output_type": "pyout",
       "prompt_number": 21,
       "text": [
        "Source\n",
        "center: [49.0, 47.0]\n",
        "bbox: [45, 43, 53, 51]"
       ]
      }
     ],
     "prompt_number": 21
    },
    {
     "cell_type": "markdown",
     "metadata": {},
     "source": [
      "Along with its primary attributes, a source as lazily computed properties that are computed once upon request and then cached (avoiding expensive recomputation). These are avaialble in aggregate on the model object. For example, each source has the ability to compute a bounding polygon. We can look at just one, rendered using lightning `imagedraw` method which draws regions on top of images and supports freehand drawing."
     ]
    },
    {
     "cell_type": "code",
     "collapsed": false,
     "input": [
      "lgn.imagepoly(data.mean(), model[0].polygon)"
     ],
     "language": "python",
     "metadata": {},
     "outputs": [
      {
       "html": [
        "<meta name=\"viewport\" content=\"width=device-width, initial-scale=1, maximum-scale=1\"/><meta http-equiv=\"X-UA-Compatible\" content=\"IE=10; IE=9; IE=8; IE=7; IE=EDGE\"/><meta charset=\"UTF-8\"/><link href=\"//fonts.googleapis.com/css?family=Open+Sans:400,700\" rel=\"stylesheet\" type=\"text/css\"/><link rel=\"stylesheet\" href=\"http://lightning-sources-demo.herokuapp.com/css/app.css\"/><link rel=\"stylesheet\" href=\"http://lightning-sources-demo.herokuapp.com/css/dynamic/viz/?visualizations[]=image-poly\"/><div id=\"lightning-body\" class=\"container content wrap push\"><div class=\"feed-container\"><div data-model=\"visualization\" data-model-id=\"1\" class=\"feed-item-container\"><div data-type=\"image-poly\" data-data=\"{&quot;coordinates&quot;:[[[45,45],[43,47],[43,51],[45,53],[49,53],[51,51],[51,47],[49,45]]]}\" data-images=\"[&quot;/images/uploads/sessions/1/wCILPvdqQ1hvP8zaQ46W8LCiU9iimbMT&quot;]\" data-options=\"null\" id=\"viz-1\" data-initialized=\"false\" class=\"feed-item\"></div></div></div></div><script>window.lightning = window.lightning || {};\n",
        "window.lightning.host = \"http://lightning-sources-demo.herokuapp.com/\" || 'http://127.0.0.1:3000/';\n",
        "window.lightning.vizCount = (window.lightning.vizCount + 1) || 1;\n",
        "window.lightning.requiredVizTypes = window.lightning.requiredVizTypes || [];\n",
        "if(window.lightning.requiredVizTypes.indexOf(\"image-poly\") === -1) {\n",
        "    window.lightning.requiredVizTypes.push(\"image-poly\");\n",
        "}\n",
        "window._require = window.require;\n",
        "window.require = undefined;\n",
        "window._define = window.define;\n",
        "window.define = undefined;</script><script src=\"http://lightning-sources-demo.herokuapp.com/js/embed.js\"></script>"
       ],
       "metadata": {},
       "output_type": "pyout",
       "prompt_number": 22,
       "text": [
        "<lightning.types.images.ImagePoly at 0x10acb5ed0>"
       ]
      }
     ],
     "prompt_number": 22
    },
    {
     "cell_type": "markdown",
     "metadata": {},
     "source": [
      "Or look at all of them."
     ]
    },
    {
     "cell_type": "code",
     "collapsed": false,
     "input": [
      "lgn.imagepoly(data.mean(), model.polygons)"
     ],
     "language": "python",
     "metadata": {},
     "outputs": [
      {
       "html": [
        "<meta name=\"viewport\" content=\"width=device-width, initial-scale=1, maximum-scale=1\"/><meta http-equiv=\"X-UA-Compatible\" content=\"IE=10; IE=9; IE=8; IE=7; IE=EDGE\"/><meta charset=\"UTF-8\"/><link href=\"//fonts.googleapis.com/css?family=Open+Sans:400,700\" rel=\"stylesheet\" type=\"text/css\"/><link rel=\"stylesheet\" href=\"http://lightning-sources-demo.herokuapp.com/css/app.css\"/><link rel=\"stylesheet\" href=\"http://lightning-sources-demo.herokuapp.com/css/dynamic/viz/?visualizations[]=image-poly\"/><div id=\"lightning-body\" class=\"container content wrap push\"><div class=\"feed-container\"><div data-model=\"visualization\" data-model-id=\"2\" class=\"feed-item-container\"><div data-type=\"image-poly\" data-data=\"{&quot;coordinates&quot;:[[[45,45],[43,47],[43,51],[45,53],[49,53],[51,51],[51,47],[49,45]],[[173,21],[173,17],[171,15],[167,15],[165,17],[165,21],[167,23],[171,23]],[[102,28],[102,24],[100,22],[96,22],[94,24],[94,28],[96,30],[100,30]],[[146,65],[144,67],[144,71],[146,73],[150,73],[152,71],[152,67],[150,65]],[[75,72],[75,68],[73,66],[69,66],[67,68],[67,72],[69,74],[73,74]],[[42,73],[42,69],[40,67],[36,67],[34,69],[34,73],[36,75],[40,75]],[[124,43],[122,45],[122,49],[124,51],[128,51],[130,49],[130,45],[128,43]],[[58,36],[58,32],[56,30],[52,30],[50,32],[50,36],[52,38],[56,38]],[[144,36],[144,32],[142,30],[138,30],[136,32],[136,36],[138,38],[142,38]],[[195,47],[195,43],[193,41],[189,41],[187,43],[187,47],[189,49],[193,49]]]}\" data-images=\"[&quot;/images/uploads/sessions/1/6EgouhJ4gp2qg7f06RYVFe3vnaNrXft9&quot;]\" data-options=\"null\" id=\"viz-2\" data-initialized=\"false\" class=\"feed-item\"></div></div></div></div><script>window.lightning = window.lightning || {};\n",
        "window.lightning.host = \"http://lightning-sources-demo.herokuapp.com/\" || 'http://127.0.0.1:3000/';\n",
        "window.lightning.vizCount = (window.lightning.vizCount + 1) || 1;\n",
        "window.lightning.requiredVizTypes = window.lightning.requiredVizTypes || [];\n",
        "if(window.lightning.requiredVizTypes.indexOf(\"image-poly\") === -1) {\n",
        "    window.lightning.requiredVizTypes.push(\"image-poly\");\n",
        "}\n",
        "window._require = window.require;\n",
        "window.require = undefined;\n",
        "window._define = window.define;\n",
        "window.define = undefined;</script><script src=\"http://lightning-sources-demo.herokuapp.com/js/embed.js\"></script>"
       ],
       "metadata": {},
       "output_type": "pyout",
       "prompt_number": 23,
       "text": [
        "<lightning.types.images.ImagePoly at 0x10acb5190>"
       ]
      }
     ],
     "prompt_number": 23
    },
    {
     "cell_type": "markdown",
     "metadata": {},
     "source": [
      "An alternate output renders regions as masks, with or without values via the `binary` flag (here it wouldn't matter because the regions have no values)"
     ]
    },
    {
     "cell_type": "code",
     "collapsed": false,
     "input": [
      "lgn.image(model.masks(dims=(100,200), binary=True))"
     ],
     "language": "python",
     "metadata": {},
     "outputs": [
      {
       "html": [
        "<meta name=\"viewport\" content=\"width=device-width, initial-scale=1, maximum-scale=1\"/><meta http-equiv=\"X-UA-Compatible\" content=\"IE=10; IE=9; IE=8; IE=7; IE=EDGE\"/><meta charset=\"UTF-8\"/><link href=\"//fonts.googleapis.com/css?family=Open+Sans:400,700\" rel=\"stylesheet\" type=\"text/css\"/><link rel=\"stylesheet\" href=\"http://lightning-sources-demo.herokuapp.com/css/app.css\"/><link rel=\"stylesheet\" href=\"http://lightning-sources-demo.herokuapp.com/css/dynamic/viz/?visualizations[]=image\"/><div id=\"lightning-body\" class=\"container content wrap push\"><div class=\"feed-container\"><div data-model=\"visualization\" data-model-id=\"3\" class=\"feed-item-container\"><div data-type=\"image\" data-data=\"null\" data-images=\"[&quot;/images/uploads/sessions/1/QHOM8Cl6gU9lQLTsA6WdDyVbhi8aRuEO&quot;]\" data-options=\"null\" id=\"viz-3\" data-initialized=\"false\" class=\"feed-item\"></div></div></div></div><script>window.lightning = window.lightning || {};\n",
        "window.lightning.host = \"http://lightning-sources-demo.herokuapp.com/\" || 'http://127.0.0.1:3000/';\n",
        "window.lightning.vizCount = (window.lightning.vizCount + 1) || 1;\n",
        "window.lightning.requiredVizTypes = window.lightning.requiredVizTypes || [];\n",
        "if(window.lightning.requiredVizTypes.indexOf(\"image\") === -1) {\n",
        "    window.lightning.requiredVizTypes.push(\"image\");\n",
        "}\n",
        "window._require = window.require;\n",
        "window.require = undefined;\n",
        "window._define = window.define;\n",
        "window.define = undefined;</script><script src=\"http://lightning-sources-demo.herokuapp.com/js/embed.js\"></script>"
       ],
       "metadata": {},
       "output_type": "pyout",
       "prompt_number": 24,
       "text": [
        "<lightning.types.images.Image at 0x10a2c3050>"
       ]
      }
     ],
     "prompt_number": 24
    },
    {
     "cell_type": "markdown",
     "metadata": {},
     "source": [
      "We can do the same operation but construct from modular components rather than use the factory. The key components of a `FeatureMethod` are a `FeatureCreator` and a `FeatureAlgorithm`, as well as a more generic `Cleaner`. This obeys normal argument checking on component classes."
     ]
    },
    {
     "cell_type": "code",
     "collapsed": false,
     "input": [
      "from thunder.extraction import FeatureMethod, LocalMaxFeatureAlgorithm, MeanFeatureCreator, BasicCleaner\n",
      "\n",
      "algorithm = LocalMaxFeatureAlgorithm(minDistance=5, maxSources=10, radius=5)\n",
      "creator = MeanFeatureCreator()\n",
      "cleaner = BasicCleaner(minArea=0, maxArea=200)\n",
      "\n",
      "model = FeatureMethod(algorithm, creator, cleaner).fit(data)"
     ],
     "language": "python",
     "metadata": {},
     "outputs": [],
     "prompt_number": 25
    },
    {
     "cell_type": "code",
     "collapsed": false,
     "input": [
      "lgn.imagepoly(data.mean(), model.polygons)"
     ],
     "language": "python",
     "metadata": {},
     "outputs": [
      {
       "html": [
        "<meta name=\"viewport\" content=\"width=device-width, initial-scale=1, maximum-scale=1\"/><meta http-equiv=\"X-UA-Compatible\" content=\"IE=10; IE=9; IE=8; IE=7; IE=EDGE\"/><meta charset=\"UTF-8\"/><link href=\"//fonts.googleapis.com/css?family=Open+Sans:400,700\" rel=\"stylesheet\" type=\"text/css\"/><link rel=\"stylesheet\" href=\"http://lightning-sources-demo.herokuapp.com/css/app.css\"/><link rel=\"stylesheet\" href=\"http://lightning-sources-demo.herokuapp.com/css/dynamic/viz/?visualizations[]=image-poly\"/><div id=\"lightning-body\" class=\"container content wrap push\"><div class=\"feed-container\"><div data-model=\"visualization\" data-model-id=\"4\" class=\"feed-item-container\"><div data-type=\"image-poly\" data-data=\"{&quot;coordinates&quot;:[[[45,45],[43,47],[43,51],[45,53],[49,53],[51,51],[51,47],[49,45]],[[173,21],[173,17],[171,15],[167,15],[165,17],[165,21],[167,23],[171,23]],[[102,28],[102,24],[100,22],[96,22],[94,24],[94,28],[96,30],[100,30]],[[146,65],[144,67],[144,71],[146,73],[150,73],[152,71],[152,67],[150,65]],[[75,72],[75,68],[73,66],[69,66],[67,68],[67,72],[69,74],[73,74]],[[42,73],[42,69],[40,67],[36,67],[34,69],[34,73],[36,75],[40,75]],[[124,43],[122,45],[122,49],[124,51],[128,51],[130,49],[130,45],[128,43]],[[58,36],[58,32],[56,30],[52,30],[50,32],[50,36],[52,38],[56,38]],[[144,36],[144,32],[142,30],[138,30],[136,32],[136,36],[138,38],[142,38]],[[195,47],[195,43],[193,41],[189,41],[187,43],[187,47],[189,49],[193,49]]]}\" data-images=\"[&quot;/images/uploads/sessions/1/iWHeAN990k3FBQ1st90TaDIVhVuU16s3&quot;]\" data-options=\"null\" id=\"viz-4\" data-initialized=\"false\" class=\"feed-item\"></div></div></div></div><script>window.lightning = window.lightning || {};\n",
        "window.lightning.host = \"http://lightning-sources-demo.herokuapp.com/\" || 'http://127.0.0.1:3000/';\n",
        "window.lightning.vizCount = (window.lightning.vizCount + 1) || 1;\n",
        "window.lightning.requiredVizTypes = window.lightning.requiredVizTypes || [];\n",
        "if(window.lightning.requiredVizTypes.indexOf(\"image-poly\") === -1) {\n",
        "    window.lightning.requiredVizTypes.push(\"image-poly\");\n",
        "}\n",
        "window._require = window.require;\n",
        "window.require = undefined;\n",
        "window._define = window.define;\n",
        "window.define = undefined;</script><script src=\"http://lightning-sources-demo.herokuapp.com/js/embed.js\"></script>"
       ],
       "metadata": {},
       "output_type": "pyout",
       "prompt_number": 26,
       "text": [
        "<lightning.types.images.ImagePoly at 0x10a2c3e90>"
       ]
      }
     ],
     "prompt_number": 26
    },
    {
     "cell_type": "markdown",
     "metadata": {},
     "source": [
      "## Saving and loading models"
     ]
    },
    {
     "cell_type": "markdown",
     "metadata": {},
     "source": [
      "### Saving as JSON"
     ]
    },
    {
     "cell_type": "markdown",
     "metadata": {},
     "source": [
      "Models can easily be saved to JSON. We slightly modify Thunder's built-in serialization functionality to yield a simplified, more human-readable output."
     ]
    },
    {
     "cell_type": "code",
     "collapsed": false,
     "input": [
      "model.save(\"~/sources.json\")"
     ],
     "language": "python",
     "metadata": {},
     "outputs": [],
     "prompt_number": 27
    },
    {
     "cell_type": "markdown",
     "metadata": {},
     "source": [
      "Models contain both primary attributes (id, coordinates, values) and lazily derived attributes (center, bounding box, polygon boundary, etc.). By default, lazy attributes are not saved, as they are not neccessary for reconstituing sources. However, they can be optionally selected for inclusion, in which case they will also be persisted (and automatically reloaded, potentially saving recomputation)."
     ]
    },
    {
     "cell_type": "code",
     "collapsed": false,
     "input": [
      "model.save(\"~/sources.json\", include=\"polygon\")"
     ],
     "language": "python",
     "metadata": {},
     "outputs": [],
     "prompt_number": 28
    },
    {
     "cell_type": "code",
     "collapsed": false,
     "input": [
      "model.save(\"~/sources.json\", include=[\"center\", \"area\", \"polygon\"])"
     ],
     "language": "python",
     "metadata": {},
     "outputs": [],
     "prompt_number": 29
    },
    {
     "cell_type": "markdown",
     "metadata": {},
     "source": [
      "### Loading from JSON"
     ]
    },
    {
     "cell_type": "markdown",
     "metadata": {},
     "source": [
      "The same model can then be loaded back in"
     ]
    },
    {
     "cell_type": "code",
     "collapsed": false,
     "input": [
      "model = SourceExtraction.load(\"~/sources.json\")\n",
      "lgn.imagepoly(data.mean(), model.polygons)"
     ],
     "language": "python",
     "metadata": {},
     "outputs": [
      {
       "html": [
        "<meta name=\"viewport\" content=\"width=device-width, initial-scale=1, maximum-scale=1\"/><meta http-equiv=\"X-UA-Compatible\" content=\"IE=10; IE=9; IE=8; IE=7; IE=EDGE\"/><meta charset=\"UTF-8\"/><link href=\"//fonts.googleapis.com/css?family=Open+Sans:400,700\" rel=\"stylesheet\" type=\"text/css\"/><link rel=\"stylesheet\" href=\"http://lightning-sources-demo.herokuapp.com/css/app.css\"/><link rel=\"stylesheet\" href=\"http://lightning-sources-demo.herokuapp.com/css/dynamic/viz/?visualizations[]=image-poly\"/><div id=\"lightning-body\" class=\"container content wrap push\"><div class=\"feed-container\"><div data-model=\"visualization\" data-model-id=\"5\" class=\"feed-item-container\"><div data-type=\"image-poly\" data-data=\"{&quot;coordinates&quot;:[[[45,45],[43,47],[43,51],[45,53],[49,53],[51,51],[51,47],[49,45]],[[173,21],[173,17],[171,15],[167,15],[165,17],[165,21],[167,23],[171,23]],[[102,28],[102,24],[100,22],[96,22],[94,24],[94,28],[96,30],[100,30]],[[146,65],[144,67],[144,71],[146,73],[150,73],[152,71],[152,67],[150,65]],[[75,72],[75,68],[73,66],[69,66],[67,68],[67,72],[69,74],[73,74]],[[42,73],[42,69],[40,67],[36,67],[34,69],[34,73],[36,75],[40,75]],[[124,43],[122,45],[122,49],[124,51],[128,51],[130,49],[130,45],[128,43]],[[58,36],[58,32],[56,30],[52,30],[50,32],[50,36],[52,38],[56,38]],[[144,36],[144,32],[142,30],[138,30],[136,32],[136,36],[138,38],[142,38]],[[195,47],[195,43],[193,41],[189,41],[187,43],[187,47],[189,49],[193,49]]]}\" data-images=\"[&quot;/images/uploads/sessions/1/0ro6NVC4Mr5bQBIEQpuHaz59qv5ZDn0u&quot;]\" data-options=\"null\" id=\"viz-5\" data-initialized=\"false\" class=\"feed-item\"></div></div></div></div><script>window.lightning = window.lightning || {};\n",
        "window.lightning.host = \"http://lightning-sources-demo.herokuapp.com/\" || 'http://127.0.0.1:3000/';\n",
        "window.lightning.vizCount = (window.lightning.vizCount + 1) || 1;\n",
        "window.lightning.requiredVizTypes = window.lightning.requiredVizTypes || [];\n",
        "if(window.lightning.requiredVizTypes.indexOf(\"image-poly\") === -1) {\n",
        "    window.lightning.requiredVizTypes.push(\"image-poly\");\n",
        "}\n",
        "window._require = window.require;\n",
        "window.require = undefined;\n",
        "window._define = window.define;\n",
        "window.define = undefined;</script><script src=\"http://lightning-sources-demo.herokuapp.com/js/embed.js\"></script>"
       ],
       "metadata": {},
       "output_type": "pyout",
       "prompt_number": 30,
       "text": [
        "<lightning.types.images.ImagePoly at 0x1070a4d10>"
       ]
      }
     ],
     "prompt_number": 30
    },
    {
     "cell_type": "markdown",
     "metadata": {},
     "source": [
      "## Getting time series"
     ]
    },
    {
     "cell_type": "markdown",
     "metadata": {},
     "source": [
      "Once a source model is constructed, we can use it to extract time series from a data set. Currently only simple averaging over regions is supported, but we will add support for weighted regions, and methods that do some form of local unmixing (via regression)."
     ]
    },
    {
     "cell_type": "code",
     "collapsed": false,
     "input": [
      "data, ts, centers = tsc.makeExample('sources', centers=3, noise=0.1, returnParams=True)\n",
      "model = SourceExtraction('localmax', minDistance=5, maxSources=3, radius=5).fit(data)\n",
      "ts_recon = model.transform(data)"
     ],
     "language": "python",
     "metadata": {},
     "outputs": [],
     "prompt_number": 31
    },
    {
     "cell_type": "code",
     "collapsed": false,
     "input": [
      "lgn.imagepoly(data.mean(), model.polygons)"
     ],
     "language": "python",
     "metadata": {},
     "outputs": [
      {
       "html": [
        "<meta name=\"viewport\" content=\"width=device-width, initial-scale=1, maximum-scale=1\"/><meta http-equiv=\"X-UA-Compatible\" content=\"IE=10; IE=9; IE=8; IE=7; IE=EDGE\"/><meta charset=\"UTF-8\"/><link href=\"//fonts.googleapis.com/css?family=Open+Sans:400,700\" rel=\"stylesheet\" type=\"text/css\"/><link rel=\"stylesheet\" href=\"http://lightning-sources-demo.herokuapp.com/css/app.css\"/><link rel=\"stylesheet\" href=\"http://lightning-sources-demo.herokuapp.com/css/dynamic/viz/?visualizations[]=image-poly\"/><div id=\"lightning-body\" class=\"container content wrap push\"><div class=\"feed-container\"><div data-model=\"visualization\" data-model-id=\"6\" class=\"feed-item-container\"><div data-type=\"image-poly\" data-data=\"{&quot;coordinates&quot;:[[[149,42],[149,38],[147,36],[143,36],[141,38],[141,42],[143,44],[147,44]],[[83,47],[83,43],[81,41],[77,41],[75,43],[75,47],[77,49],[81,49]],[[43,34],[47,34],[49,32],[49,28],[47,26],[43,26],[41,28],[41,32]]]}\" data-images=\"[&quot;/images/uploads/sessions/1/OGNdnLMXveDKvT1GVJ5FiGr2YXX9d5N6&quot;]\" data-options=\"null\" id=\"viz-6\" data-initialized=\"false\" class=\"feed-item\"></div></div></div></div><script>window.lightning = window.lightning || {};\n",
        "window.lightning.host = \"http://lightning-sources-demo.herokuapp.com/\" || 'http://127.0.0.1:3000/';\n",
        "window.lightning.vizCount = (window.lightning.vizCount + 1) || 1;\n",
        "window.lightning.requiredVizTypes = window.lightning.requiredVizTypes || [];\n",
        "if(window.lightning.requiredVizTypes.indexOf(\"image-poly\") === -1) {\n",
        "    window.lightning.requiredVizTypes.push(\"image-poly\");\n",
        "}\n",
        "window._require = window.require;\n",
        "window.require = undefined;\n",
        "window._define = window.define;\n",
        "window.define = undefined;</script><script src=\"http://lightning-sources-demo.herokuapp.com/js/embed.js\"></script>"
       ],
       "metadata": {},
       "output_type": "pyout",
       "prompt_number": 32,
       "text": [
        "<lightning.types.images.ImagePoly at 0x10a326750>"
       ]
      }
     ],
     "prompt_number": 32
    },
    {
     "cell_type": "markdown",
     "metadata": {},
     "source": [
      "Compare real and estimated time series (note that colors may not correspond one-to-one because order is arbitrary)"
     ]
    },
    {
     "cell_type": "code",
     "collapsed": false,
     "input": [
      "lgn.linestacked(ts_recon)"
     ],
     "language": "python",
     "metadata": {},
     "outputs": [
      {
       "html": [
        "<meta name=\"viewport\" content=\"width=device-width, initial-scale=1, maximum-scale=1\"/><meta http-equiv=\"X-UA-Compatible\" content=\"IE=10; IE=9; IE=8; IE=7; IE=EDGE\"/><meta charset=\"UTF-8\"/><link href=\"//fonts.googleapis.com/css?family=Open+Sans:400,700\" rel=\"stylesheet\" type=\"text/css\"/><link rel=\"stylesheet\" href=\"http://lightning-sources-demo.herokuapp.com/css/app.css\"/><link rel=\"stylesheet\" href=\"http://lightning-sources-demo.herokuapp.com/css/dynamic/viz/?visualizations[]=line-stacked\"/><div id=\"lightning-body\" class=\"container content wrap push\"><div class=\"feed-container\"><div data-model=\"visualization\" data-model-id=\"8\" class=\"feed-item-container\"><div data-type=\"line-stacked\" data-data=\"{&quot;series&quot;:[[0.0007951663078594981,0.6508443611504775,1.0572172960103172,0.008783546534881443,-0.00822114453731701,0.007057755346338721,0.6120478900863553,-0.03384715737400428,0.06699055066100347,0.0137164918368166,0.07680394981284705,0.11254242469637908,0.023570328471640478,0.0052207203277114915,-0.005874248248156622,0.03564145324764969,0.026919540541805575,1.0594366400810502,0.5102876505031279,-0.00959659757702472,0.017800052109612025,0.004167543945833046,-0.010480864306450578,0.00804224678077744,-0.009274414190370842,-0.01633350763095722,0.3248135819591898,-0.0212034312685434,0.37584858691811013,0.18392418653084358,0.41959789731228775,0.16737797476609423,0.011829606212481796,0.7279849793682395,1.0289056412823634,0.016910023566367532,0.005095861900782837,0.47225125624355824,-0.005817348628826572,0.6599404499818349,-0.032413243893053154,1.1438829206290524,0.30042393984597876,1.267743704141358,-0.006107443845631182,0.9012890157549989,0.021938238502156576,0.14780018021641858,0.02606607059659615,-0.012035024439089973,0.0030861142625694055,0.025788099369377607,0.024644528274382425,0.9128584162781173,0.2604448246478681,-0.01780301833997718,0.3582743673681971,0.24774563922041345,-0.0010431554805560043,0.020523030567563952,0.04986251747411656,0.5138751966629065,0.1630262199309004,0.0535051749637634,0.03970181629459572,-0.005586994884440192,0.028992096188815663,0.8073846534860117,0.23693750370118513,0.015307389324920883,0.028326677659523524,0.005658508562056214,0.01343165159089677,0.3533585388564832,0.01651094578807984,1.7562709632760019,0.0038143340558392854,0.6228462323561219,0.08208410790837688,0.31315566938435857,0.11286405097579633,0.021434578502603614,0.45220080816320135,0.10543501041995297,0.5021303879593139,0.05741382245861792,0.019718536042387526,0.2409680787248462,-0.036279687362840124,0.016776226636130768,0.008389630613369772,-0.007699422793685051,0.6692386755075094,0.30870974650831634,0.09647360578534642,0.6532684922735295,0.026255985578204893,0.0075532010707716314,0.005785527501640828,-0.019228088334943595],[0.03218766223757916,0.015604366404583153,-0.01724400185688725,-0.026729995001692663,1.6609861893293338,0.3338997050402124,0.3944216578532066,0.23096036565452518,0.44860792397936317,0.0039041503848955632,0.5013176380973217,0.017453795980750093,0.010704820318228668,0.0045751543976618346,0.4360762600852206,-0.013798225968578543,0.08189173380573718,0.04264877243888166,0.7283506342292275,0.02773495854000712,-0.0026467759165490746,0.3588475076775112,0.00011321697379057416,-0.02283152486720078,0.6568741451075149,0.3978087737402468,0.9394201983544953,-0.012855114136815731,0.2147921115965603,0.6498312196641989,-0.008539489161553608,0.3912029610849853,0.33750381082365133,0.9853429802176608,-0.00636933808815301,0.032118282442186306,-0.008275464241961007,1.1850376203441024,0.24616768555680205,0.007433288561659558,0.013523060614669664,0.007875116400115971,0.5294898199731585,0.31616212279133965,0.025756005937661957,0.7276773639614001,-0.009791905157291104,0.0528175052347466,0.06405639915945972,0.0958101334538378,0.015473455788004825,0.6683191474813732,-0.014998696246496211,0.3514597995778267,0.2594439122097407,0.030442123998127037,0.013120831305307248,0.00973936327044889,0.5634148882983986,-0.03166927953140228,-0.0047267275249926275,0.7462981656793334,0.022116150094412135,-0.0011442231323041524,0.003991497727486023,-0.016662013534597515,0.0036866235760190593,-0.004412307638865186,0.13607849997756857,0.18086627197673782,0.3329276934762055,0.7949297787887651,0.0335002476242337,0.26526665258101156,0.3915123139734635,0.6541642396558724,0.015111701719919962,0.027968287397947423,-0.06193782038107544,0.006208258550060018,0.043257565012795963,-0.017256073890153305,0.17933197725563757,0.016512475662821997,1.049867915221644,0.6657621452782467,0.00048364586362715725,0.7415272712079176,0.1754181375351847,0.24622246647610374,0.029828913317242897,0.03255279672584187,0.15596729767554318,0.008630665094132376,-0.019450500647304535,0.4867057999641248,0.28289568184851205,0.04582443744278327,0.30518272319803424,0.017679955956919003],[0.1255908993196634,0.5605217419348724,-0.038907469667969416,0.2930607689746616,0.008650784519880411,-0.012289108932587334,0.02713332374646795,-0.02763683763078708,0.7619563714850354,0.4381378678782982,0.8603228942520423,0.1398141643678079,0.025876273603904362,0.013487453894867418,0.02904288355355082,0.011857887240609224,-0.030231267063705273,0.08846349077624667,0.019266847134434616,-0.011328627175725678,-0.0163678358954104,0.0485840791790715,0.39928618028151186,-0.019180469929698237,1.0537347524930873,-0.011633395322309769,0.6781000218106661,-0.008527606076107416,0.014113220575345,0.028551471507239242,0.35149892174820196,0.47929620048392346,0.0172785193554079,-0.005038817775175828,0.5358048073054383,0.7925560131433891,0.012149695116968737,0.019228430376520184,0.21872885402191192,0.42293031139913084,0.14492322382321735,-0.039195009438671345,0.0039977673243907635,0.662132193208886,0.004397459123593576,-0.008137436823701806,-0.026752380544831176,0.1158849036480825,-0.016666759084119246,0.5699069136914414,-0.03767322277258686,0.008562704962011548,0.02635436710956593,-0.010426176632970543,-0.035017015694323216,0.05256116913045313,0.5351668969852941,0.06369111177161908,0.019840967856224613,-0.001979996028189887,-0.015886700222065668,0.10454510487187453,0.5839748074085088,-0.00845583951413897,0.12591671011708536,0.035739726381941096,0.20936107735144396,0.34714362230308826,-0.0018563503030916216,0.025850201672610647,1.1330871603338366,0.0023418796284663227,0.4205054939860201,0.13551358590780765,0.00007625950377934635,0.11443634430072637,0.37241729152155034,0.09501780112949579,0.06067729370473905,0.18214770758676427,0.04613239503400044,0.010567692119391863,0.4592842839869011,-0.015669385697579204,-0.053447166908301424,-0.000029810055863813054,0.6007915371171434,0.5477978528005287,0.023711628208515204,-0.017340478231367855,0.05839103132893909,0.36017776722793227,0.545818703688387,0.7983820793130961,0.00952272959179139,0.3953222820261405,1.0948915986813645,-0.0011467600191587377,-0.004507781767346227,-0.005003066903912169]]}\" data-images=\"null\" data-options=\"null\" id=\"viz-8\" data-initialized=\"false\" class=\"feed-item\"></div></div></div></div><script>window.lightning = window.lightning || {};\n",
        "window.lightning.host = \"http://lightning-sources-demo.herokuapp.com/\" || 'http://127.0.0.1:3000/';\n",
        "window.lightning.vizCount = (window.lightning.vizCount + 1) || 1;\n",
        "window.lightning.requiredVizTypes = window.lightning.requiredVizTypes || [];\n",
        "if(window.lightning.requiredVizTypes.indexOf(\"line-stacked\") === -1) {\n",
        "    window.lightning.requiredVizTypes.push(\"line-stacked\");\n",
        "}\n",
        "window._require = window.require;\n",
        "window.require = undefined;\n",
        "window._define = window.define;\n",
        "window.define = undefined;</script><script src=\"http://lightning-sources-demo.herokuapp.com/js/embed.js\"></script>"
       ],
       "metadata": {},
       "output_type": "pyout",
       "prompt_number": 34,
       "text": [
        "<lightning.types.plots.LineStacked at 0x10a2acd90>"
       ]
      }
     ],
     "prompt_number": 34
    },
    {
     "cell_type": "code",
     "collapsed": false,
     "input": [
      "lgn.linestacked(ts)"
     ],
     "language": "python",
     "metadata": {},
     "outputs": [
      {
       "html": [
        "<meta name=\"viewport\" content=\"width=device-width, initial-scale=1, maximum-scale=1\"/><meta http-equiv=\"X-UA-Compatible\" content=\"IE=10; IE=9; IE=8; IE=7; IE=EDGE\"/><meta charset=\"UTF-8\"/><link href=\"//fonts.googleapis.com/css?family=Open+Sans:400,700\" rel=\"stylesheet\" type=\"text/css\"/><link rel=\"stylesheet\" href=\"http://lightning-sources-demo.herokuapp.com/css/app.css\"/><link rel=\"stylesheet\" href=\"http://lightning-sources-demo.herokuapp.com/css/dynamic/viz/?visualizations[]=line-stacked\"/><div id=\"lightning-body\" class=\"container content wrap push\"><div class=\"feed-container\"><div data-model=\"visualization\" data-model-id=\"9\" class=\"feed-item-container\"><div data-type=\"line-stacked\" data-data=\"{&quot;series&quot;:[[0,0,0,0,2.8657478919183057,0.605475346621512,0.6769405853150001,0.3492751395980988,0.7346652968655762,0,0.8480681615601999,0,0,0,0.7497875262935737,0,0.1288111107018403,0,1.2690537128534138,0.009535036955519252,0,0.6205915664996173,0,0,1.1802387594522041,0.69226450063773,1.6062824829267437,0,0.3839748029102132,1.087084587704935,0,0.7540511440242079,0.5464320690286133,1.674557310194014,0,0,0,2.0644963199291344,0.4692145761797784,0,0,0,0.8773473985731162,0.544958936664579,0.056714949213041745,1.3264671412818139,0,0,0,0.18150442086800167,0.01550425686318204,1.154816061805768,0,0.6082945843222474,0.44382406493258786,0,0,0,0.9803765958533335,0,0,1.2050460644210332,0,0,0,0,0,0,0.26234397151935657,0.2783275652440946,0.5332990061972688,1.3172335027087485,0,0.4710059897021089,0.6527484391263153,1.1457493625212445,0,0,0,0,0.07471515247288421,0,0.30722922561997873,0,1.8426793816014375,1.1679810731486797,0,1.2642519376003338,0.2340268539112519,0.42980928575541927,0,0.04860624782395595,0.2814366915193619,0.014448710270169888,0,0.8321691238715011,0.4878091767785321,0.1552971880171784,0.5010131675768122,0],[0.22522934888342658,0.9970159118797821,0,0.5510525093285016,0,0,0.05676855548449761,0,1.284489101879811,0.753310864494486,1.53823676400872,0.26159063226563806,0,0,0.040718780429257556,0,0,0.12014929450482525,0.03306044713307124,0,0,0.08784330344834168,0.6778952997270707,0,1.8362684610399875,0,1.119998222712202,0,0,0.11269123439762956,0.6232268161224033,0.8128425347047324,0,0,0.8968103010801468,1.3872271931144504,0,0,0.40582442295276633,0.7099023809975964,0.1780864026821004,0,0,1.1250408580128617,0,0,0,0.12751315652365514,0,0.9592954569836948,0.021027814888390974,0,0,0,0,0.09492412199646018,0.8744072495655586,0,0,0,0,0.17290029695203565,1.0634642239898024,0,0.24340062097267864,0,0.36612317958842006,0.5902493650683476,0,0,2.0144809154016614,0,0.7541654443400976,0.2669993520081754,0,0.23923876177913259,0.6603320216978058,0.15845584839988616,0.10192527242574433,0.343323058736128,0,0,0.8211359072909851,0,0,0,1.0390938061519797,0.9240481939124947,0,0,0.12755892288658513,0.6544807393151492,0.9220023941418302,1.3875636153073385,0,0.6855664004034479,1.9353904718935862,0,0,0],[0,1.176787411497405,1.9436059256035751,0,0,0,1.043860185235087,0,0.11647782497659159,0,0.08136586562538174,0.1989508055946248,0,0,0,0,0,1.9651872429597836,0.8842158194607131,0,0,0,0,0,0,0,0.5610673237175926,0,0.7125651779138724,0.3973106730289428,0.7881261650111353,0.26370464622814627,0,1.344999012666401,1.811352905895296,0,0,0.8574001395695642,0,1.2114390135714577,0,2.0534968495371118,0.47414185707691364,2.215388912208918,0,1.6241002174879429,0,0.19888472072783933,0,0,0,0,0,1.6254568082663607,0.5004300619951055,0,0.6037134700178073,0.40029070674854944,0,0,0,0.8738441082504341,0.32612713338956745,0.1312964993073361,0.09311974759799925,0,0,1.4292293810413077,0.4224011970615724,0,0,0,0,0.6618294742985155,0,3.106522596115496,0,1.0881881428049696,0.10974185438473218,0.5789762934287395,0.19955865099468392,0,0.8546132870746395,0.21631863147351285,0.8526264383672034,0.10511809584527661,0.07029656894526856,0.4696993925549116,0,0,0,0,1.1932958470848807,0.5632699177806078,0.1619061720599647,1.1264682941954034,0,0,0,0]]}\" data-images=\"null\" data-options=\"null\" id=\"viz-9\" data-initialized=\"false\" class=\"feed-item\"></div></div></div></div><script>window.lightning = window.lightning || {};\n",
        "window.lightning.host = \"http://lightning-sources-demo.herokuapp.com/\" || 'http://127.0.0.1:3000/';\n",
        "window.lightning.vizCount = (window.lightning.vizCount + 1) || 1;\n",
        "window.lightning.requiredVizTypes = window.lightning.requiredVizTypes || [];\n",
        "if(window.lightning.requiredVizTypes.indexOf(\"line-stacked\") === -1) {\n",
        "    window.lightning.requiredVizTypes.push(\"line-stacked\");\n",
        "}\n",
        "window._require = window.require;\n",
        "window.require = undefined;\n",
        "window._define = window.define;\n",
        "window.define = undefined;</script><script src=\"http://lightning-sources-demo.herokuapp.com/js/embed.js\"></script>"
       ],
       "metadata": {},
       "output_type": "pyout",
       "prompt_number": 35,
       "text": [
        "<lightning.types.plots.LineStacked at 0x10a2acf90>"
       ]
      }
     ],
     "prompt_number": 35
    },
    {
     "cell_type": "markdown",
     "metadata": {},
     "source": [
      "We can also get both the model and the time series all at once by calling `run`"
     ]
    },
    {
     "cell_type": "code",
     "collapsed": false,
     "input": [
      "model, ts = SourceExtraction('localmax', minDistance=5, maxSources=3, radius=5).run(data)"
     ],
     "language": "python",
     "metadata": {},
     "outputs": [],
     "prompt_number": 36
    },
    {
     "cell_type": "markdown",
     "metadata": {},
     "source": [
      "## Block method example: nmf"
     ]
    },
    {
     "cell_type": "markdown",
     "metadata": {},
     "source": [
      "Block methods use an alternative procedure in which the data set is split into small blocks of xyzt (or xyt), an algorithm is run on each block to genreate a set of candidate sources, and then those sources are merged together. The key components of a `BlockMethod` are a `BlockAlgorithm` and a `BlockMerger`, as well as a more generic `Cleaner`. Here we use the factory to call the method `nmf`, which combined an NMF decomposition as the algorithm as (currently very simple!) merger."
     ]
    },
    {
     "cell_type": "code",
     "collapsed": false,
     "input": [
      "data = tsc.makeExample('sources', centers=10, noise=0.1)\n",
      "model = SourceExtraction(\"nmf\", percentile=90).fit(data, size=(50,50))"
     ],
     "language": "python",
     "metadata": {},
     "outputs": [],
     "prompt_number": 41
    },
    {
     "cell_type": "markdown",
     "metadata": {},
     "source": [
      "Because the output is once again a model we can access and visualize geometric properties the same as above. Note that this doesn't neccessarily do a terrific job. There is much to improve even in this basic case for both the algorithm and the merging."
     ]
    },
    {
     "cell_type": "code",
     "collapsed": false,
     "input": [
      "lgn.imagepoly(data.mean(), model.polygons)"
     ],
     "language": "python",
     "metadata": {},
     "outputs": [
      {
       "html": [
        "<meta name=\"viewport\" content=\"width=device-width, initial-scale=1, maximum-scale=1\"/><meta http-equiv=\"X-UA-Compatible\" content=\"IE=10; IE=9; IE=8; IE=7; IE=EDGE\"/><meta charset=\"UTF-8\"/><link href=\"//fonts.googleapis.com/css?family=Open+Sans:400,700\" rel=\"stylesheet\" type=\"text/css\"/><link rel=\"stylesheet\" href=\"http://lightning-sources-demo.herokuapp.com/css/app.css\"/><link rel=\"stylesheet\" href=\"http://lightning-sources-demo.herokuapp.com/css/dynamic/viz/?visualizations[]=image-poly\"/><div id=\"lightning-body\" class=\"container content wrap push\"><div class=\"feed-container\"><div data-model=\"visualization\" data-model-id=\"12\" class=\"feed-item-container\"><div data-type=\"image-poly\" data-data=\"{&quot;coordinates&quot;:[[[49,29],[49,19],[48,18],[44,17],[41,18],[39,20],[38,25],[39,30],[46,30]],[[23,50],[16,50],[14,51],[12,57],[14,60],[16,62],[21,62],[25,61],[26,58],[26,53],[25,51]],[[42,63],[40,70],[40,71],[47,73],[49,73],[49,61],[48,58],[45,60]],[[33,55],[35,65],[40,65],[43,64],[47,59],[47,56],[44,52],[42,50],[41,50],[39,51]],[[94,13],[93,13],[89,16],[88,17],[88,26],[93,27],[95,27],[99,26],[99,16]],[[99,50],[93,50],[90,54],[93,57],[97,60],[99,60]],[[51,73],[53,71],[55,65],[55,64],[54,62],[51,58],[50,60],[50,72]],[[138,33],[137,28],[132,24],[131,24],[126,27],[124,31],[124,35],[125,36],[129,38],[133,38],[137,35]],[[149,36],[149,26],[147,22],[138,22],[137,29],[137,33],[140,36],[142,37],[147,37]],[[120,21],[116,25],[118,33],[122,34],[126,34],[128,32],[131,26],[131,25],[130,22],[129,21]],[[180,33],[178,31],[172,41],[171,43],[174,48],[176,49],[184,49],[186,43],[184,39]]]}\" data-images=\"[&quot;/images/uploads/sessions/1/mflagLVolV794HMLhyYMRM5dJ5ZzrM9l&quot;]\" data-options=\"null\" id=\"viz-12\" data-initialized=\"false\" class=\"feed-item\"></div></div></div></div><script>window.lightning = window.lightning || {};\n",
        "window.lightning.host = \"http://lightning-sources-demo.herokuapp.com/\" || 'http://127.0.0.1:3000/';\n",
        "window.lightning.vizCount = (window.lightning.vizCount + 1) || 1;\n",
        "window.lightning.requiredVizTypes = window.lightning.requiredVizTypes || [];\n",
        "if(window.lightning.requiredVizTypes.indexOf(\"image-poly\") === -1) {\n",
        "    window.lightning.requiredVizTypes.push(\"image-poly\");\n",
        "}\n",
        "window._require = window.require;\n",
        "window.require = undefined;\n",
        "window._define = window.define;\n",
        "window.define = undefined;</script><script src=\"http://lightning-sources-demo.herokuapp.com/js/embed.js\"></script>"
       ],
       "metadata": {},
       "output_type": "pyout",
       "prompt_number": 42,
       "text": [
        "<lightning.types.images.ImagePoly at 0x1070a4bd0>"
       ]
      }
     ],
     "prompt_number": 42
    },
    {
     "cell_type": "code",
     "collapsed": false,
     "input": [
      "lgn.image(model.masks([100,200]))"
     ],
     "language": "python",
     "metadata": {},
     "outputs": [
      {
       "html": [
        "<meta name=\"viewport\" content=\"width=device-width, initial-scale=1, maximum-scale=1\"/><meta http-equiv=\"X-UA-Compatible\" content=\"IE=10; IE=9; IE=8; IE=7; IE=EDGE\"/><meta charset=\"UTF-8\"/><link href=\"//fonts.googleapis.com/css?family=Open+Sans:400,700\" rel=\"stylesheet\" type=\"text/css\"/><link rel=\"stylesheet\" href=\"http://lightning-sources-demo.herokuapp.com/css/app.css\"/><link rel=\"stylesheet\" href=\"http://lightning-sources-demo.herokuapp.com/css/dynamic/viz/?visualizations[]=image\"/><div id=\"lightning-body\" class=\"container content wrap push\"><div class=\"feed-container\"><div data-model=\"visualization\" data-model-id=\"13\" class=\"feed-item-container\"><div data-type=\"image\" data-data=\"null\" data-images=\"[&quot;/images/uploads/sessions/1/0kbkmrCnUazvNfHqvSOcJKfqcv8LsbJw&quot;]\" data-options=\"null\" id=\"viz-13\" data-initialized=\"false\" class=\"feed-item\"></div></div></div></div><script>window.lightning = window.lightning || {};\n",
        "window.lightning.host = \"http://lightning-sources-demo.herokuapp.com/\" || 'http://127.0.0.1:3000/';\n",
        "window.lightning.vizCount = (window.lightning.vizCount + 1) || 1;\n",
        "window.lightning.requiredVizTypes = window.lightning.requiredVizTypes || [];\n",
        "if(window.lightning.requiredVizTypes.indexOf(\"image\") === -1) {\n",
        "    window.lightning.requiredVizTypes.push(\"image\");\n",
        "}\n",
        "window._require = window.require;\n",
        "window.require = undefined;\n",
        "window._define = window.define;\n",
        "window.define = undefined;</script><script src=\"http://lightning-sources-demo.herokuapp.com/js/embed.js\"></script>"
       ],
       "metadata": {},
       "output_type": "pyout",
       "prompt_number": 43,
       "text": [
        "<lightning.types.images.Image at 0x10a333810>"
       ]
      }
     ],
     "prompt_number": 43
    }
   ],
   "metadata": {}
  }
 ]
}