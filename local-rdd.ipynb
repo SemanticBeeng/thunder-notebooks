{
 "cells": [
  {
   "cell_type": "markdown",
   "metadata": {},
   "source": [
    "# *Benchmarking local computation in Spark*"
   ]
  },
  {
   "cell_type": "markdown",
   "metadata": {},
   "source": [
    "An excellent feature of Spark is that it runs locally with minimal setup. This is incredibly useful for debugging, but can be surprisingly slow for *real* local computation, due to its enumlating certain aspects of the distributed codepath. Although local computation is not Spark's intended use case, real-world workflows often involve working with both large and medium sized data sets in the same notebook, and we want to maintain high performance without switching frameworks. This notebook serves to document these differences."
   ]
  },
  {
   "cell_type": "markdown",
   "metadata": {},
   "source": [
    "*Notes*: I'm using RDDs, not Spark's DataFrames, it's possible that performance would be improved for DataFrames, this would be good to try. A related point is that some of this difference could be Python specific, so it would be worth trying the same thing in Scala. Finally, it's worth rerunning with different values of *n* and *k*. In my own testing, I've found that the difference may scale by their ratio, it's dramatic when *n/k=10* and less dramatic when *n/k=100*."
   ]
  },
  {
   "cell_type": "markdown",
   "metadata": {},
   "source": [
    "*Run using Spark 1.3.1 and the current `local-rdd` branch of Thunder.*"
   ]
  },
  {
   "cell_type": "markdown",
   "metadata": {},
   "source": [
    "## Setup"
   ]
  },
  {
   "cell_type": "markdown",
   "metadata": {},
   "source": [
    "Import our packages"
   ]
  },
  {
   "cell_type": "code",
   "execution_count": 1,
   "metadata": {
    "collapsed": true
   },
   "outputs": [],
   "source": [
    "import timeit\n",
    "from numpy import random, add, arange, fix, round, maximum, ceil, array, sum, percentile\n",
    "from pandas import DataFrame"
   ]
  },
  {
   "cell_type": "markdown",
   "metadata": {},
   "source": [
    "Setup plotting"
   ]
  },
  {
   "cell_type": "code",
   "execution_count": 2,
   "metadata": {
    "collapsed": true
   },
   "outputs": [],
   "source": [
    "%matplotlib inline\n",
    "import matplotlib.pyplot as plt\n",
    "import seaborn as sns\n",
    "sns.set_style('darkgrid')"
   ]
  },
  {
   "cell_type": "markdown",
   "metadata": {},
   "source": [
    "Define a class for storing an RDD and running some benchmarks (best of 3 loops each with 3 reps) "
   ]
  },
  {
   "cell_type": "code",
   "execution_count": 3,
   "metadata": {
    "collapsed": true
   },
   "outputs": [],
   "source": [
    "class Benchmark(object):\n",
    "    \n",
    "    def __init__(self, rdd):\n",
    "        self.rdd = rdd\n",
    "        \n",
    "    def run(self, name):\n",
    "        t = timeit.Timer(lambda: funcs[name](self.rdd))\n",
    "        r = min([t.timeit(3)/3.0 * 1000 for _ in range(3)])\n",
    "        return r"
   ]
  },
  {
   "cell_type": "markdown",
   "metadata": {},
   "source": [
    "Define a dictionary of RDD operations"
   ]
  },
  {
   "cell_type": "code",
   "execution_count": 4,
   "metadata": {
    "collapsed": true
   },
   "outputs": [],
   "source": [
    "funcs = {}\n",
    "funcs['sum'] = lambda rdd: rdd.values().reduce(add)\n",
    "funcs['max'] = lambda rdd: rdd.values().reduce(maximum)\n",
    "funcs['filter'] = lambda rdd: rdd.filter(lambda (k, v): k > 50).count()\n",
    "funcs['map'] = lambda rdd: rdd.mapValues(lambda x: x.sum()).count()\n",
    "funcs['collect'] = lambda rdd: rdd.values().collect()\n",
    "funcs['reduceByKey'] = lambda rdd: rdd.reduceByKey(add).count()\n",
    "funcs['groupByKey'] = lambda rdd: rdd.groupByKey().count()"
   ]
  },
  {
   "cell_type": "markdown",
   "metadata": {},
   "source": [
    "## \"Distributed\" mode"
   ]
  },
  {
   "cell_type": "markdown",
   "metadata": {},
   "source": [
    "Here we compute times for an RDD defined through `sc.parallelize`. It's a collection of records, each a one-dimensional numpy array."
   ]
  },
  {
   "cell_type": "code",
   "execution_count": 5,
   "metadata": {
    "collapsed": false
   },
   "outputs": [],
   "source": [
    "n = 10000\n",
    "k = 1000\n",
    "vals = random.rand(n,k)\n",
    "keys = ceil(random.rand(n) * 100)"
   ]
  },
  {
   "cell_type": "markdown",
   "metadata": {},
   "source": [
    "We force a cache, and use only 1 slice. For most operation, parallelizing in local mode does not seem to improve times, and may even make things worse, but it's worth experimenting with in different environments."
   ]
  },
  {
   "cell_type": "code",
   "execution_count": 6,
   "metadata": {
    "collapsed": false
   },
   "outputs": [],
   "source": [
    "rdd = sc.parallelize(zip(keys, vals), numSlices=1)\n",
    "rdd.cache()\n",
    "rdd.count()\n",
    "t = Benchmark(rdd)"
   ]
  },
  {
   "cell_type": "markdown",
   "metadata": {},
   "source": [
    "Run a simple benchmark using the timit magic"
   ]
  },
  {
   "cell_type": "code",
   "execution_count": 7,
   "metadata": {
    "collapsed": false
   },
   "outputs": [
    {
     "name": "stdout",
     "output_type": "stream",
     "text": [
      "1 loops, best of 3: 444 ms per loop\n"
     ]
    }
   ],
   "source": [
    "%timeit rdd.values().reduce(add)"
   ]
  },
  {
   "cell_type": "markdown",
   "metadata": {},
   "source": [
    "Use our `Benchmark` class to do the same thing (confirm a similar answer)"
   ]
  },
  {
   "cell_type": "code",
   "execution_count": 8,
   "metadata": {
    "collapsed": false
   },
   "outputs": [
    {
     "data": {
      "text/plain": [
       "346.8603293100993"
      ]
     },
     "execution_count": 8,
     "metadata": {},
     "output_type": "execute_result"
    }
   ],
   "source": [
    "t.run('sum')"
   ]
  },
  {
   "cell_type": "markdown",
   "metadata": {},
   "source": [
    "Now collect times for all functions"
   ]
  },
  {
   "cell_type": "code",
   "execution_count": 9,
   "metadata": {
    "collapsed": false
   },
   "outputs": [],
   "source": [
    "distributed = [t.run(k) for k in funcs.keys()]"
   ]
  },
  {
   "cell_type": "code",
   "execution_count": 10,
   "metadata": {
    "collapsed": false
   },
   "outputs": [
    {
     "data": {
      "text/html": [
       "<div style=\"max-height:1000px;max-width:1500px;overflow:auto;\">\n",
       "<table border=\"1\" class=\"dataframe\">\n",
       "  <thead>\n",
       "    <tr style=\"text-align: right;\">\n",
       "      <th></th>\n",
       "      <th>time</th>\n",
       "    </tr>\n",
       "  </thead>\n",
       "  <tbody>\n",
       "    <tr>\n",
       "      <th>map</th>\n",
       "      <td>  361.647367</td>\n",
       "    </tr>\n",
       "    <tr>\n",
       "      <th>reduceByKey</th>\n",
       "      <td>  393.696626</td>\n",
       "    </tr>\n",
       "    <tr>\n",
       "      <th>max</th>\n",
       "      <td>  337.116003</td>\n",
       "    </tr>\n",
       "    <tr>\n",
       "      <th>sum</th>\n",
       "      <td>  368.278344</td>\n",
       "    </tr>\n",
       "    <tr>\n",
       "      <th>groupByKey</th>\n",
       "      <td> 1381.878694</td>\n",
       "    </tr>\n",
       "    <tr>\n",
       "      <th>filter</th>\n",
       "      <td>  328.457991</td>\n",
       "    </tr>\n",
       "    <tr>\n",
       "      <th>collect</th>\n",
       "      <td> 1917.637348</td>\n",
       "    </tr>\n",
       "  </tbody>\n",
       "</table>\n",
       "</div>"
      ],
      "text/plain": [
       "                    time\n",
       "map           361.647367\n",
       "reduceByKey   393.696626\n",
       "max           337.116003\n",
       "sum           368.278344\n",
       "groupByKey   1381.878694\n",
       "filter        328.457991\n",
       "collect      1917.637348"
      ]
     },
     "execution_count": 10,
     "metadata": {},
     "output_type": "execute_result"
    }
   ],
   "source": [
    "DataFrame(distributed, index=funcs.keys(), columns=[\"time\"])"
   ]
  },
  {
   "cell_type": "markdown",
   "metadata": {},
   "source": [
    "## \"Local\" mode"
   ]
  },
  {
   "cell_type": "markdown",
   "metadata": {},
   "source": [
    "Now we'll try a simple trick. In Thunder we've prototyped a `LocalRDD` (view on [GitHub](https://github.com/thunder-project/thunder/blob/local-rdd/python/thunder/rdds/local.py)) which is a rather dumb object that  replicates much of the RDD API but implemented through operations on locally stored lists, mainly using for comprehensions and Python's built-in functional methods."
   ]
  },
  {
   "cell_type": "code",
   "execution_count": 11,
   "metadata": {
    "collapsed": true
   },
   "outputs": [],
   "source": [
    "from thunder.rdds.local import LocalRDD"
   ]
  },
  {
   "cell_type": "markdown",
   "metadata": {},
   "source": [
    "We initialize a local RDD just by passing it values and keys."
   ]
  },
  {
   "cell_type": "code",
   "execution_count": 12,
   "metadata": {
    "collapsed": true
   },
   "outputs": [],
   "source": [
    "rdd = LocalRDD(vals, keys)\n",
    "t = Benchmark(rdd)"
   ]
  },
  {
   "cell_type": "markdown",
   "metadata": {},
   "source": [
    "Rerun the same benchmarks"
   ]
  },
  {
   "cell_type": "code",
   "execution_count": 13,
   "metadata": {
    "collapsed": false
   },
   "outputs": [],
   "source": [
    "local = [t.run(k) for k in funcs.keys()]"
   ]
  },
  {
   "cell_type": "code",
   "execution_count": 14,
   "metadata": {
    "collapsed": false
   },
   "outputs": [
    {
     "data": {
      "text/html": [
       "<div style=\"max-height:1000px;max-width:1500px;overflow:auto;\">\n",
       "<table border=\"1\" class=\"dataframe\">\n",
       "  <thead>\n",
       "    <tr style=\"text-align: right;\">\n",
       "      <th></th>\n",
       "      <th>time</th>\n",
       "    </tr>\n",
       "  </thead>\n",
       "  <tbody>\n",
       "    <tr>\n",
       "      <th>map</th>\n",
       "      <td>  33.987284</td>\n",
       "    </tr>\n",
       "    <tr>\n",
       "      <th>reduceByKey</th>\n",
       "      <td> 106.415669</td>\n",
       "    </tr>\n",
       "    <tr>\n",
       "      <th>max</th>\n",
       "      <td>  22.393306</td>\n",
       "    </tr>\n",
       "    <tr>\n",
       "      <th>sum</th>\n",
       "      <td>  16.190052</td>\n",
       "    </tr>\n",
       "    <tr>\n",
       "      <th>groupByKey</th>\n",
       "      <td>  87.693691</td>\n",
       "    </tr>\n",
       "    <tr>\n",
       "      <th>filter</th>\n",
       "      <td>   3.379663</td>\n",
       "    </tr>\n",
       "    <tr>\n",
       "      <th>collect</th>\n",
       "      <td>   1.320998</td>\n",
       "    </tr>\n",
       "  </tbody>\n",
       "</table>\n",
       "</div>"
      ],
      "text/plain": [
       "                   time\n",
       "map           33.987284\n",
       "reduceByKey  106.415669\n",
       "max           22.393306\n",
       "sum           16.190052\n",
       "groupByKey    87.693691\n",
       "filter         3.379663\n",
       "collect        1.320998"
      ]
     },
     "execution_count": 14,
     "metadata": {},
     "output_type": "execute_result"
    }
   ],
   "source": [
    "DataFrame(local, index=funcs.keys(), columns=[\"time\"])"
   ]
  },
  {
   "cell_type": "markdown",
   "metadata": {},
   "source": [
    "## Plot the comparison"
   ]
  },
  {
   "cell_type": "code",
   "execution_count": 15,
   "metadata": {
    "collapsed": false
   },
   "outputs": [],
   "source": [
    "n = len(funcs.keys())\n",
    "col1 = local + distributed\n",
    "col2 = funcs.keys() + funcs.keys()\n",
    "col3 = ['local' for _ in range(n)] + ['distributed' for _ in range(n)]"
   ]
  },
  {
   "cell_type": "code",
   "execution_count": 16,
   "metadata": {
    "collapsed": false
   },
   "outputs": [],
   "source": [
    "df = DataFrame({\"time\": col1, \"function\": col2, \"location\": col3})"
   ]
  },
  {
   "cell_type": "code",
   "execution_count": 17,
   "metadata": {
    "collapsed": false
   },
   "outputs": [
    {
     "data": {
      "image/png": "[encoded data removed]",
      "text/plain": [
       "<matplotlib.figure.Figure at 0x109f40390>"
      ]
     },
     "metadata": {},
     "output_type": "display_data"
    }
   ],
   "source": [
    "sns.factorplot(\"function\", \"time\", \"location\", df, aspect=2.0);"
   ]
  }
 ],
 "metadata": {
  "kernelspec": {
   "display_name": "Python 2",
   "language": "python",
   "name": "python2"
  },
  "language_info": {
   "codemirror_mode": {
    "name": "ipython",
    "version": 2
   },
   "file_extension": ".py",
   "mimetype": "text/x-python",
   "name": "python",
   "nbconvert_exporter": "python",
   "pygments_lexer": "ipython2",
   "version": "2.7.9"
  }
 },
 "nbformat": 4,
 "nbformat_minor": 0
}
